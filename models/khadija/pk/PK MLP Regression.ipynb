{
 "cells": [
  {
   "cell_type": "markdown",
   "id": "018f4a11",
   "metadata": {},
   "source": [
    "# Imports"
   ]
  },
  {
   "cell_type": "code",
   "execution_count": 1,
   "id": "e7c76466",
   "metadata": {},
   "outputs": [],
   "source": [
    "from sklearn.neural_network import MLPRegressor\n",
    "import sklearn.metrics as metrics\n",
    "import matplotlib.pyplot as plt  \n",
    "import numpy as np\n",
    "from sklearn import metrics\n",
    "from sklearn.metrics import roc_curve, auc\n",
    "from sklearn.metrics import confusion_matrix\n",
    "from sklearn.metrics import matthews_corrcoef\n",
    "import pandas as pd\n",
    "import sklearn\n",
    "from sklearn import model_selection\n",
    "from sklearn.model_selection import train_test_split\n",
    "from sklearn.metrics import roc_auc_score\n",
    "from sklearn.metrics import mean_squared_error\n",
    "import Functions\n",
    "from sklearn import preprocessing\n",
    "from sklearn.preprocessing import StandardScaler\n",
    "from hyperopt import hp, tpe, fmin\n",
    "import itertools\n",
    "import sys\n",
    "np.set_printoptions(threshold=sys.maxsize)\n",
    "from hyperopt.pyll import scope\n",
    "from hyperopt import Trials"
   ]
  },
  {
   "cell_type": "markdown",
   "id": "421024f1",
   "metadata": {},
   "source": [
    "# Preprocessing "
   ]
  },
  {
   "cell_type": "code",
   "execution_count": 2,
   "id": "872303bb",
   "metadata": {},
   "outputs": [],
   "source": [
    "x=pd.read_csv(\"updatedPK no features.csv\")\n",
    "del x ['Cmpd Name']\n",
    "x = x.dropna(axis = 0, how='any')\n",
    "x = x.sort_values(['AUC'], ascending = False)\n",
    "x.reset_index(drop = True, inplace = True)\n",
    "smiles = x['mol']\n",
    "y = x['AUC']\n",
    "del x['mol']"
   ]
  },
  {
   "cell_type": "markdown",
   "id": "2f4ed9a5",
   "metadata": {},
   "source": [
    "# Fingerprints"
   ]
  },
  {
   "cell_type": "code",
   "execution_count": 3,
   "id": "6e275edf",
   "metadata": {},
   "outputs": [],
   "source": [
    "x1 = Functions.fp(smiles, 'mol', x, y, 1024)\n",
    "x1 = x1.drop(x1.columns[0], axis=1)\n",
    "del x1['mol']\n",
    "x1 = pd.concat([x, x1], axis = 1)"
   ]
  },
  {
   "cell_type": "markdown",
   "id": "43fef519",
   "metadata": {},
   "source": [
    "# No Var - Corr Applied "
   ]
  },
  {
   "cell_type": "markdown",
   "id": "4ba557aa",
   "metadata": {},
   "source": [
    "## Normalization"
   ]
  },
  {
   "cell_type": "code",
   "execution_count": 4,
   "id": "7e2bf72b",
   "metadata": {
    "scrolled": true
   },
   "outputs": [],
   "source": [
    "y = x1['AUC']\n",
    "y = pd.DataFrame(y)\n",
    "del x1['AUC']\n",
    "scaler = preprocessing.StandardScaler().fit(y)\n",
    "Y = scaler.transform(y) \n",
    "y2 = pd.DataFrame(Y) \n",
    "y2.columns = y.columns\n",
    "x2 = pd.concat([y2, x1], axis=1)"
   ]
  },
  {
   "cell_type": "markdown",
   "id": "f241fd96",
   "metadata": {},
   "source": [
    "## Train-test split"
   ]
  },
  {
   "cell_type": "code",
   "execution_count": 5,
   "id": "a3aa8a82",
   "metadata": {},
   "outputs": [],
   "source": [
    "x1_train1, x1_test1 = train_test_split(x2, test_size = 0.40, random_state = 1)\n",
    "x1_cv1, x1_et1 = train_test_split(x1_test1, test_size = 0.5, random_state = 1)\n",
    "\n",
    "y_train1 = pd.DataFrame(x1_train1['AUC'])\n",
    "del x1_train1['AUC']\n",
    "\n",
    "y_cv1 = pd.DataFrame(x1_cv1['AUC'])\n",
    "del x1_cv1['AUC']\n",
    "\n",
    "y_et1 = pd.DataFrame(x1_et1['AUC'])\n",
    "del x1_et1['AUC']"
   ]
  },
  {
   "cell_type": "markdown",
   "id": "aea36a05",
   "metadata": {},
   "source": [
    "# 1 Hidden Layer"
   ]
  },
  {
   "cell_type": "markdown",
   "id": "b5b42367",
   "metadata": {},
   "source": [
    "## Hyperopt "
   ]
  },
  {
   "cell_type": "code",
   "execution_count": 6,
   "id": "7dd44c35",
   "metadata": {},
   "outputs": [],
   "source": [
    "space1 = {\n",
    "    'activation': hp.choice('activation', ['relu']),\n",
    "    'solver': hp.choice('solver', ['sgd', 'adam']),\n",
    "    'alpha': hp.loguniform('alpha', np.log(1e-10), np.log(1e-1)),\n",
    "    'max_iter': hp.quniform('max_iter', 1000, 100000, 50),\n",
    "    'validation_fraction': hp.uniform('validation_fraction', 0.0, 0.2),\n",
    "    'learning_rate': hp.choice('learning_rate', ['constant', 'adaptive']),\n",
    "    'learning_rate_init': hp.loguniform('learning_rate_init', np.log(1e-10), np.log(1e-1)),\n",
    "    'hn1': hp.quniform('hn1', 1, 1024, 1)}"
   ]
  },
  {
   "cell_type": "code",
   "execution_count": 7,
   "id": "fce1fab6",
   "metadata": {},
   "outputs": [],
   "source": [
    "def mlp1(params1):\n",
    "    hn1 = int(params1['hn1'])\n",
    "    clf = MLPRegressor(hidden_layer_sizes=(hn1), activation=params1['activation'], solver=params1['solver'], alpha=params1['alpha'], max_iter=int(params1['max_iter']), validation_fraction=params1['validation_fraction'], learning_rate=params1['learning_rate'], learning_rate_init=params1['learning_rate_init'], random_state=1)\n",
    "    clf.fit(x1_train1, np.ravel(y_train1))\n",
    "    clf.predict(x1_cv1)\n",
    "    y_pred =clf.predict(x1_cv1)\n",
    "    score = mean_squared_error(y_cv1,y_pred)\n",
    "    return score"
   ]
  },
  {
   "cell_type": "code",
   "execution_count": 16,
   "id": "bc6b2d69",
   "metadata": {
    "scrolled": true
   },
   "outputs": [
    {
     "name": "stdout",
     "output_type": "stream",
     "text": [
      " 11%|█         | 218/2000 [37:06<13:12:05, 26.67s/trial, best loss: 0.5661131703858759]"
     ]
    },
    {
     "name": "stderr",
     "output_type": "stream",
     "text": [
      "/home/kbm93/anaconda3/lib/python3.8/site-packages/sklearn/neural_network/_multilayer_perceptron.py:679: ConvergenceWarning: Stochastic Optimizer: Maximum iterations (1900) reached and the optimization hasn't converged yet.\n",
      "  warnings.warn(\n",
      "\n"
     ]
    },
    {
     "name": "stdout",
     "output_type": "stream",
     "text": [
      "100%|██████████| 2000/2000 [9:51:31<00:00, 17.75s/trial, best loss: 0.4968109234643623]  \n",
      "{'activation': 0, 'alpha': 5.573517608334085e-05, 'hn1': 886.0, 'learning_rate': 0, 'learning_rate_init': 6.344967065318529e-07, 'max_iter': 73450.0, 'solver': 1, 'validation_fraction': 0.0509108555704189}\n"
     ]
    }
   ],
   "source": [
    "tpe_algorithm = tpe.suggest\n",
    "num_eval = 2000\n",
    "trials = Trials()\n",
    "best_param = fmin(mlp1, space1, algo=tpe.suggest, trials=trials, max_evals=num_eval, rstate=np.random.RandomState(1))\n",
    "print(best_param) "
   ]
  },
  {
   "cell_type": "markdown",
   "id": "96109548",
   "metadata": {},
   "source": [
    "## Metrics "
   ]
  },
  {
   "cell_type": "code",
   "execution_count": 8,
   "id": "de3d679b",
   "metadata": {},
   "outputs": [
    {
     "data": {
      "text/html": [
       "<div>\n",
       "<style scoped>\n",
       "    .dataframe tbody tr th:only-of-type {\n",
       "        vertical-align: middle;\n",
       "    }\n",
       "\n",
       "    .dataframe tbody tr th {\n",
       "        vertical-align: top;\n",
       "    }\n",
       "\n",
       "    .dataframe thead th {\n",
       "        text-align: right;\n",
       "    }\n",
       "</style>\n",
       "<table border=\"1\" class=\"dataframe\">\n",
       "  <thead>\n",
       "    <tr style=\"text-align: right;\">\n",
       "      <th></th>\n",
       "      <th>$r^{2}$</th>\n",
       "      <th>RMSE</th>\n",
       "    </tr>\n",
       "  </thead>\n",
       "  <tbody>\n",
       "    <tr>\n",
       "      <th>Cross Validation</th>\n",
       "      <td>-1.102734</td>\n",
       "      <td>1.217387</td>\n",
       "    </tr>\n",
       "    <tr>\n",
       "      <th>Test</th>\n",
       "      <td>-1.309124</td>\n",
       "      <td>1.054667</td>\n",
       "    </tr>\n",
       "  </tbody>\n",
       "</table>\n",
       "</div>"
      ],
      "text/plain": [
       "                   $r^{2}$      RMSE\n",
       "Cross Validation -1.102734  1.217387\n",
       "Test             -1.309124  1.054667"
      ]
     },
     "execution_count": 8,
     "metadata": {},
     "output_type": "execute_result"
    }
   ],
   "source": [
    "clf = MLPRegressor(activation = 'relu', alpha = 5.573517608334085e-05, hidden_layer_sizes=(1), learning_rate = 'constant', learning_rate_init = 6.344967065318529e-07, max_iter = 73450, solver = 'adam', validation_fraction = 0.0509108555704189, random_state =1)\n",
    "clf.fit(x1_train1, np.ravel(y_train1))\n",
    "Functions.regression_metrics(clf, x1_cv1, y_cv1, x1_et1, y_et1)"
   ]
  },
  {
   "cell_type": "markdown",
   "id": "c1bc763b",
   "metadata": {},
   "source": [
    "# x Hidden Layers"
   ]
  },
  {
   "cell_type": "markdown",
   "id": "fc0e5c4a",
   "metadata": {},
   "source": [
    "## Hyperopt "
   ]
  },
  {
   "cell_type": "code",
   "execution_count": 9,
   "id": "79ed9898",
   "metadata": {},
   "outputs": [],
   "source": [
    "space2 = {\n",
    "    'activation': hp.choice('activation', ['relu', 'tanh']),\n",
    "    'solver': hp.choice('solver', ['sgd', 'adam']),\n",
    "    'alpha': hp.loguniform('alpha', np.log(1e-10), np.log(1e-1)),\n",
    "    'max_iter': hp.quniform('max_iter', 1000, 100000, 50),\n",
    "    'validation_fraction': hp.uniform('validation_fraction', 0.0, 0.2),\n",
    "    'learning_rate': hp.choice('learning_rate', ['constant', 'adaptive']),\n",
    "    'learning_rate_init': hp.loguniform('learning_rate_init', np.log(1e-10), np.log(1e-1)),\n",
    "    'hidden_layers': hp.quniform('hidden_layers', 1, 3, 1),\n",
    "    'hn1': hp.quniform('hn1', 1, 1024, 1),\n",
    "    'hn2': hp.quniform('hn2', 1, 1024, 1),\n",
    "    'hn3': hp.quniform('hn3', 1, 1024, 1)}"
   ]
  },
  {
   "cell_type": "code",
   "execution_count": 10,
   "id": "6d0d83e4",
   "metadata": {},
   "outputs": [],
   "source": [
    "def mlp2(params):\n",
    "    hn1 = int(params['hn1'])\n",
    "    hn2 = int(params['hn2'])\n",
    "    hn3 = int(params['hn3'])\n",
    "    hn_total = hn1, hn2, hn3\n",
    "    clf = MLPRegressor(hidden_layer_sizes=(hn_total[0:int(params['hidden_layers'])]), activation=params['activation'], solver=params['solver'], alpha=params['alpha'], max_iter=int(params['max_iter']), validation_fraction=params['validation_fraction'], learning_rate=params['learning_rate'], learning_rate_init=params['learning_rate_init'], random_state=1)\n",
    "    clf.fit(x1_train1, np.ravel(y_train1))\n",
    "    clf.predict(x1_cv1)\n",
    "    y_pred =clf.predict(x1_cv1)\n",
    "    score = mean_squared_error(y_cv1,y_pred)\n",
    "    return score"
   ]
  },
  {
   "cell_type": "code",
   "execution_count": 21,
   "id": "cc334ebf",
   "metadata": {
    "scrolled": true
   },
   "outputs": [
    {
     "name": "stdout",
     "output_type": "stream",
     "text": [
      "  3%|▎         | 54/2000 [04:26<5:11:42,  9.61s/trial, best loss: 0.5937395961071829]"
     ]
    },
    {
     "name": "stderr",
     "output_type": "stream",
     "text": [
      "/home/kbm93/anaconda3/lib/python3.8/site-packages/sklearn/neural_network/_multilayer_perceptron.py:679: ConvergenceWarning: Stochastic Optimizer: Maximum iterations (1300) reached and the optimization hasn't converged yet.\n",
      "  warnings.warn(\n",
      "\n"
     ]
    },
    {
     "name": "stdout",
     "output_type": "stream",
     "text": [
      " 11%|█         | 215/2000 [28:53<3:19:38,  6.71s/trial, best loss: 0.5638797530862132] "
     ]
    },
    {
     "name": "stderr",
     "output_type": "stream",
     "text": [
      "/home/kbm93/anaconda3/lib/python3.8/site-packages/sklearn/neural_network/_multilayer_perceptron.py:679: ConvergenceWarning: Stochastic Optimizer: Maximum iterations (1050) reached and the optimization hasn't converged yet.\n",
      "  warnings.warn(\n",
      "\n"
     ]
    },
    {
     "name": "stdout",
     "output_type": "stream",
     "text": [
      " 12%|█▏        | 235/2000 [32:17<5:56:58, 12.14s/trial, best loss: 0.5638797530862132]"
     ]
    },
    {
     "name": "stderr",
     "output_type": "stream",
     "text": [
      "/home/kbm93/anaconda3/lib/python3.8/site-packages/sklearn/neural_network/_multilayer_perceptron.py:679: ConvergenceWarning: Stochastic Optimizer: Maximum iterations (1250) reached and the optimization hasn't converged yet.\n",
      "  warnings.warn(\n",
      "\n"
     ]
    },
    {
     "name": "stdout",
     "output_type": "stream",
     "text": [
      " 12%|█▏        | 246/2000 [34:00<6:13:52, 12.79s/trial, best loss: 0.5638797530862132]"
     ]
    },
    {
     "name": "stderr",
     "output_type": "stream",
     "text": [
      "/home/kbm93/anaconda3/lib/python3.8/site-packages/sklearn/neural_network/_multilayer_perceptron.py:679: ConvergenceWarning: Stochastic Optimizer: Maximum iterations (1100) reached and the optimization hasn't converged yet.\n",
      "  warnings.warn(\n",
      "\n"
     ]
    },
    {
     "name": "stdout",
     "output_type": "stream",
     "text": [
      " 15%|█▌        | 300/2000 [48:16<6:39:53, 14.11s/trial, best loss: 0.5638797530862132] "
     ]
    },
    {
     "name": "stderr",
     "output_type": "stream",
     "text": [
      "/home/kbm93/anaconda3/lib/python3.8/site-packages/sklearn/neural_network/_multilayer_perceptron.py:679: ConvergenceWarning: Stochastic Optimizer: Maximum iterations (1050) reached and the optimization hasn't converged yet.\n",
      "  warnings.warn(\n",
      "\n"
     ]
    },
    {
     "name": "stdout",
     "output_type": "stream",
     "text": [
      " 16%|█▋        | 328/2000 [52:34<3:47:29,  8.16s/trial, best loss: 0.5638797530862132]"
     ]
    },
    {
     "name": "stderr",
     "output_type": "stream",
     "text": [
      "/home/kbm93/anaconda3/lib/python3.8/site-packages/sklearn/neural_network/_multilayer_perceptron.py:679: ConvergenceWarning: Stochastic Optimizer: Maximum iterations (1150) reached and the optimization hasn't converged yet.\n",
      "  warnings.warn(\n",
      "\n"
     ]
    },
    {
     "name": "stdout",
     "output_type": "stream",
     "text": [
      " 37%|███▋      | 738/2000 [3:27:11<8:51:38, 25.28s/trial, best loss: 0.4354476932526391] "
     ]
    },
    {
     "name": "stderr",
     "output_type": "stream",
     "text": [
      "/home/kbm93/anaconda3/lib/python3.8/site-packages/sklearn/neural_network/_multilayer_perceptron.py:679: ConvergenceWarning: Stochastic Optimizer: Maximum iterations (1750) reached and the optimization hasn't converged yet.\n",
      "  warnings.warn(\n",
      "\n"
     ]
    },
    {
     "name": "stdout",
     "output_type": "stream",
     "text": [
      "100%|██████████| 2000/2000 [5:56:03<00:00, 10.68s/trial, best loss: 0.4016165953416459]    \n",
      "{'activation': 1, 'alpha': 3.342153230033389e-05, 'hidden_layers': 3.0, 'hn1': 245.0, 'hn2': 726.0, 'hn3': 2.0, 'learning_rate': 0, 'learning_rate_init': 7.767246822433844e-05, 'max_iter': 70450.0, 'solver': 1, 'validation_fraction': 0.130360883269387}\n"
     ]
    }
   ],
   "source": [
    "tpe_algorithm = tpe.suggest\n",
    "num_eval = 2000\n",
    "trials = Trials()\n",
    "best_param = fmin(mlp2, space2, algo=tpe.suggest, trials=trials, max_evals=num_eval, rstate=np.random.RandomState(1))\n",
    "print(best_param) "
   ]
  },
  {
   "cell_type": "markdown",
   "id": "e946fc42",
   "metadata": {},
   "source": [
    "## Metrics "
   ]
  },
  {
   "cell_type": "code",
   "execution_count": 13,
   "id": "c0fe6de9",
   "metadata": {},
   "outputs": [
    {
     "data": {
      "text/html": [
       "<div>\n",
       "<style scoped>\n",
       "    .dataframe tbody tr th:only-of-type {\n",
       "        vertical-align: middle;\n",
       "    }\n",
       "\n",
       "    .dataframe tbody tr th {\n",
       "        vertical-align: top;\n",
       "    }\n",
       "\n",
       "    .dataframe thead th {\n",
       "        text-align: right;\n",
       "    }\n",
       "</style>\n",
       "<table border=\"1\" class=\"dataframe\">\n",
       "  <thead>\n",
       "    <tr style=\"text-align: right;\">\n",
       "      <th></th>\n",
       "      <th>$r^{2}$</th>\n",
       "      <th>RMSE</th>\n",
       "    </tr>\n",
       "  </thead>\n",
       "  <tbody>\n",
       "    <tr>\n",
       "      <th>Cross Validation</th>\n",
       "      <td>0.190823</td>\n",
       "      <td>0.755194</td>\n",
       "    </tr>\n",
       "    <tr>\n",
       "      <th>Test</th>\n",
       "      <td>0.490249</td>\n",
       "      <td>0.495531</td>\n",
       "    </tr>\n",
       "  </tbody>\n",
       "</table>\n",
       "</div>"
      ],
      "text/plain": [
       "                   $r^{2}$      RMSE\n",
       "Cross Validation  0.190823  0.755194\n",
       "Test              0.490249  0.495531"
      ]
     },
     "execution_count": 13,
     "metadata": {},
     "output_type": "execute_result"
    }
   ],
   "source": [
    "clf2 = MLPRegressor(activation = 'tanh', alpha = 3.342153230033389e-05, hidden_layer_sizes=(3), learning_rate='constant', learning_rate_init = 7.767246822433844e-05, max_iter = 70450, solver = 'adam', validation_fraction = 0.130360883269387, random_state = 1)\n",
    "clf2.fit(x1_train1, np.ravel(y_train1))\n",
    "Functions.regression_metrics(clf2, x1_cv1, y_cv1, x1_et1, y_et1)"
   ]
  },
  {
   "cell_type": "markdown",
   "id": "7bb36ef5",
   "metadata": {},
   "source": [
    "# Var-Thresh + Corr Matrix "
   ]
  },
  {
   "cell_type": "code",
   "execution_count": 14,
   "id": "5d23ff40",
   "metadata": {},
   "outputs": [
    {
     "name": "stdout",
     "output_type": "stream",
     "text": [
      "\n",
      "[32, 171, 175, 192, 255, 656, 715, 753, 838, 893, 939]\n"
     ]
    },
    {
     "name": "stderr",
     "output_type": "stream",
     "text": [
      "/var/folders/p_/665xkkjx28zdr3jqxqhthkgh0000gn/T/ipykernel_2004/3267949182.py:3: DeprecationWarning: `np.bool` is a deprecated alias for the builtin `bool`. To silence this warning, use `bool` by itself. Doing this will not modify any behavior and is safe. If you specifically wanted the numpy scalar type, use `np.bool_` here.\n",
      "Deprecated in NumPy 1.20; for more details and guidance: https://numpy.org/devdocs/release/1.20.0-notes.html#deprecations\n",
      "  upper_tri = cor_matrix.where(np.triu(np.ones(cor_matrix.shape), k=1).astype(np.bool))\n"
     ]
    }
   ],
   "source": [
    "x1_var = Functions.variance_threshold_selector(x1, threshold = 0.2)\n",
    "cor_matrix = x1_var.corr().abs()\n",
    "upper_tri = cor_matrix.where(np.triu(np.ones(cor_matrix.shape), k=1).astype(np.bool))\n",
    "to_drop = [column for column in upper_tri.columns if any(upper_tri[column] >= 0.9)]\n",
    "print(); print(to_drop)"
   ]
  },
  {
   "cell_type": "code",
   "execution_count": 15,
   "id": "e7be78fc",
   "metadata": {},
   "outputs": [],
   "source": [
    "x1_var=x1_var.drop(columns=[32, 171, 175, 192, 255, 656, 715, 753, 838, 893, 939])\n",
    "x2_var = pd.concat([y2, x1_var], axis=1)"
   ]
  },
  {
   "cell_type": "markdown",
   "id": "ce74fcd8",
   "metadata": {},
   "source": [
    "## Train-Test Split"
   ]
  },
  {
   "cell_type": "code",
   "execution_count": 16,
   "id": "31d2d80e",
   "metadata": {},
   "outputs": [],
   "source": [
    "x1_train2, x1_test2 = train_test_split(x2_var, test_size = 0.40, random_state = 1)\n",
    "x1_cv2, x1_et2 = train_test_split(x1_test2, test_size = 0.5, random_state = 1)\n",
    "y_train2 = pd.DataFrame(x1_train2['AUC'])\n",
    "del x1_train2['AUC']\n",
    "\n",
    "y_cv2 = pd.DataFrame(x1_cv2['AUC'])\n",
    "del x1_cv2['AUC']\n",
    "\n",
    "y_et2 = pd.DataFrame(x1_et2['AUC'])\n",
    "del x1_et2['AUC']"
   ]
  },
  {
   "cell_type": "markdown",
   "id": "b4e8eaab",
   "metadata": {},
   "source": [
    "# 1 Hidden Layer"
   ]
  },
  {
   "cell_type": "markdown",
   "id": "89a3988d",
   "metadata": {},
   "source": [
    "## Hyperopt "
   ]
  },
  {
   "cell_type": "code",
   "execution_count": 17,
   "id": "de95a6d1",
   "metadata": {},
   "outputs": [],
   "source": [
    "space3 = {\n",
    "    'activation': hp.choice('activation', ['relu']),\n",
    "    'solver': hp.choice('solver', ['sgd', 'adam']),\n",
    "    'alpha': hp.loguniform('alpha', np.log(1e-10), np.log(1e-1)),\n",
    "    'max_iter': hp.quniform('max_iter', 1000, 100000, 50),\n",
    "    'validation_fraction': hp.uniform('validation_fraction', 0.0, 0.2),\n",
    "    'learning_rate': hp.choice('learning_rate', ['constant', 'adaptive']),\n",
    "    'learning_rate_init': hp.loguniform('learning_rate_init', np.log(1e-10), np.log(1e-1)),\n",
    "    'hn1': hp.quniform('hn1', 1, 1024, 1)}"
   ]
  },
  {
   "cell_type": "code",
   "execution_count": 28,
   "id": "35620c51",
   "metadata": {},
   "outputs": [],
   "source": [
    "def mlp3(params1):\n",
    "    hn1 = int(params1['hn1'])\n",
    "    clf = MLPRegressor(hidden_layer_sizes=(hn1), activation=params1['activation'], solver=params1['solver'], alpha=params1['alpha'], max_iter=int(params1['max_iter']), validation_fraction=params1['validation_fraction'], learning_rate=params1['learning_rate'], learning_rate_init=params1['learning_rate_init'], random_state=1)\n",
    "    clf.fit(x1_train2, np.ravel(y_train2))\n",
    "    clf.predict(x1_cv2)\n",
    "    y_pred =clf.predict(x1_cv2)\n",
    "    score = mean_squared_error(y_cv2,y_pred)\n",
    "    return score"
   ]
  },
  {
   "cell_type": "code",
   "execution_count": 29,
   "id": "a6b920b0",
   "metadata": {
    "scrolled": true
   },
   "outputs": [
    {
     "name": "stdout",
     "output_type": "stream",
     "text": [
      "100%|██████████| 2000/2000 [14:32<00:00,  2.29trial/s, best loss: 0.32652975504598186]\n",
      "{'activation': 0, 'alpha': 1.4105362699669513e-05, 'hn1': 638.0, 'learning_rate': 1, 'learning_rate_init': 0.0948175168279281, 'max_iter': 88250.0, 'solver': 1, 'validation_fraction': 0.10503238822854696}\n"
     ]
    }
   ],
   "source": [
    "tpe_algorithm = tpe.suggest\n",
    "num_eval = 2000\n",
    "trials = Trials()\n",
    "best_param = fmin(mlp3, space3, algo=tpe.suggest, trials=trials, max_evals=num_eval, rstate=np.random.RandomState(1))\n",
    "print(best_param) "
   ]
  },
  {
   "cell_type": "markdown",
   "id": "e02c5c54",
   "metadata": {},
   "source": [
    "## Metrics "
   ]
  },
  {
   "cell_type": "code",
   "execution_count": 18,
   "id": "5316b6f1",
   "metadata": {},
   "outputs": [
    {
     "data": {
      "text/html": [
       "<div>\n",
       "<style scoped>\n",
       "    .dataframe tbody tr th:only-of-type {\n",
       "        vertical-align: middle;\n",
       "    }\n",
       "\n",
       "    .dataframe tbody tr th {\n",
       "        vertical-align: top;\n",
       "    }\n",
       "\n",
       "    .dataframe thead th {\n",
       "        text-align: right;\n",
       "    }\n",
       "</style>\n",
       "<table border=\"1\" class=\"dataframe\">\n",
       "  <thead>\n",
       "    <tr style=\"text-align: right;\">\n",
       "      <th></th>\n",
       "      <th>$r^{2}$</th>\n",
       "      <th>RMSE</th>\n",
       "    </tr>\n",
       "  </thead>\n",
       "  <tbody>\n",
       "    <tr>\n",
       "      <th>Cross Validation</th>\n",
       "      <td>-0.810758</td>\n",
       "      <td>1.12971</td>\n",
       "    </tr>\n",
       "    <tr>\n",
       "      <th>Test</th>\n",
       "      <td>0.181409</td>\n",
       "      <td>0.62795</td>\n",
       "    </tr>\n",
       "  </tbody>\n",
       "</table>\n",
       "</div>"
      ],
      "text/plain": [
       "                   $r^{2}$     RMSE\n",
       "Cross Validation -0.810758  1.12971\n",
       "Test              0.181409  0.62795"
      ]
     },
     "execution_count": 18,
     "metadata": {},
     "output_type": "execute_result"
    }
   ],
   "source": [
    "clf3 = MLPRegressor(activation='relu', alpha = 1.4105362699669513e-05, hidden_layer_sizes=(1), learning_rate = 'adaptive', learning_rate_init = 0.0948175168279281, max_iter = 88250, solver = 'adam', validation_fraction = 0.10503238822854696, random_state = 1)\n",
    "clf3.fit(x1_train2, np.ravel(y_train2))\n",
    "Functions.regression_metrics(clf3, x1_cv2, y_cv2, x1_et2, y_et2)"
   ]
  },
  {
   "cell_type": "markdown",
   "id": "44c70c94",
   "metadata": {},
   "source": [
    "# x Hidden Layers"
   ]
  },
  {
   "cell_type": "markdown",
   "id": "49abba1f",
   "metadata": {},
   "source": [
    "## Hyperopt"
   ]
  },
  {
   "cell_type": "code",
   "execution_count": 19,
   "id": "ed4caf57",
   "metadata": {},
   "outputs": [],
   "source": [
    "space4 = {\n",
    "    'activation': hp.choice('activation', ['relu', 'tanh']),\n",
    "    'solver': hp.choice('solver', ['sgd', 'adam']),\n",
    "    'alpha': hp.loguniform('alpha', np.log(1e-10), np.log(1e-1)),\n",
    "    'max_iter': hp.quniform('max_iter', 1000, 100000, 50),\n",
    "    'validation_fraction': hp.uniform('validation_fraction', 0.0, 0.2),\n",
    "    'learning_rate': hp.choice('learning_rate', ['constant', 'adaptive']),\n",
    "    'learning_rate_init': hp.loguniform('learning_rate_init', np.log(1e-10), np.log(1e-1)),\n",
    "    'hidden_layers': hp.quniform('hidden_layers', 1, 3, 1),\n",
    "    'hn1': hp.quniform('hn1', 1, 24, 1),\n",
    "    'hn2': hp.quniform('hn2', 1, 24, 1),\n",
    "    'hn3': hp.quniform('hn3', 1, 24, 1)}\n",
    "    "
   ]
  },
  {
   "cell_type": "code",
   "execution_count": 20,
   "id": "6fd0172d",
   "metadata": {},
   "outputs": [],
   "source": [
    "def mlp4(params):\n",
    "    hn1 = int(params['hn1'])\n",
    "    hn2 = int(params['hn2'])\n",
    "    hn3 = int(params['hn3'])\n",
    "    hn_total = hn1, hn2, hn3\n",
    "    clf = MLPRegressor(hidden_layer_sizes=(hn_total[0:int(params['hidden_layers'])]), activation=params['activation'], solver=params['solver'], alpha=params['alpha'], max_iter=int(params['max_iter']), validation_fraction=params['validation_fraction'], learning_rate=params['learning_rate'], learning_rate_init=params['learning_rate_init'], random_state=1)\n",
    "    clf.fit(x1_train2, np.ravel(y_train2))\n",
    "    clf.predict(x1_cv2)\n",
    "    y_pred =clf.predict(x1_cv2)\n",
    "    score = mean_squared_error(y_cv2,y_pred)\n",
    "    return score"
   ]
  },
  {
   "cell_type": "code",
   "execution_count": 32,
   "id": "ade166c4",
   "metadata": {},
   "outputs": [
    {
     "name": "stdout",
     "output_type": "stream",
     "text": [
      "  4%|▍         | 79/2000 [00:15<08:25,  3.80trial/s, best loss: 0.6104215026892066]"
     ]
    },
    {
     "name": "stderr",
     "output_type": "stream",
     "text": [
      "/home/kbm93/anaconda3/lib/python3.8/site-packages/sklearn/neural_network/_multilayer_perceptron.py:679: ConvergenceWarning: Stochastic Optimizer: Maximum iterations (1150) reached and the optimization hasn't converged yet.\n",
      "  warnings.warn(\n",
      "\n"
     ]
    },
    {
     "name": "stdout",
     "output_type": "stream",
     "text": [
      "100%|██████████| 2000/2000 [12:00<00:00,  2.78trial/s, best loss: 0.30432236108514477]\n",
      "{'activation': 0, 'alpha': 0.0005348231787252624, 'hidden_layers': 2.0, 'hn1': 17.0, 'hn2': 13.0, 'hn3': 16.0, 'learning_rate': 0, 'learning_rate_init': 0.03334278685932487, 'max_iter': 33650.0, 'solver': 1, 'validation_fraction': 0.07249783942314608}\n"
     ]
    }
   ],
   "source": [
    "tpe_algorithm = tpe.suggest\n",
    "num_eval = 2000\n",
    "trials = Trials()\n",
    "best_param = fmin(mlp4, space4, algo=tpe.suggest, trials=trials, max_evals=num_eval, rstate=np.random.RandomState(1))\n",
    "print(best_param) "
   ]
  },
  {
   "cell_type": "markdown",
   "id": "20eb3b1f",
   "metadata": {},
   "source": [
    "## Results "
   ]
  },
  {
   "cell_type": "code",
   "execution_count": 21,
   "id": "fa9107cc",
   "metadata": {},
   "outputs": [
    {
     "data": {
      "text/html": [
       "<div>\n",
       "<style scoped>\n",
       "    .dataframe tbody tr th:only-of-type {\n",
       "        vertical-align: middle;\n",
       "    }\n",
       "\n",
       "    .dataframe tbody tr th {\n",
       "        vertical-align: top;\n",
       "    }\n",
       "\n",
       "    .dataframe thead th {\n",
       "        text-align: right;\n",
       "    }\n",
       "</style>\n",
       "<table border=\"1\" class=\"dataframe\">\n",
       "  <thead>\n",
       "    <tr style=\"text-align: right;\">\n",
       "      <th></th>\n",
       "      <th>$r^{2}$</th>\n",
       "      <th>RMSE</th>\n",
       "    </tr>\n",
       "  </thead>\n",
       "  <tbody>\n",
       "    <tr>\n",
       "      <th>Cross Validation</th>\n",
       "      <td>-0.871911</td>\n",
       "      <td>1.148628</td>\n",
       "    </tr>\n",
       "    <tr>\n",
       "      <th>Test</th>\n",
       "      <td>0.031205</td>\n",
       "      <td>0.683136</td>\n",
       "    </tr>\n",
       "  </tbody>\n",
       "</table>\n",
       "</div>"
      ],
      "text/plain": [
       "                   $r^{2}$      RMSE\n",
       "Cross Validation -0.871911  1.148628\n",
       "Test              0.031205  0.683136"
      ]
     },
     "execution_count": 21,
     "metadata": {},
     "output_type": "execute_result"
    }
   ],
   "source": [
    "clf4 = MLPRegressor(activation='relu', alpha = 0.0005348231787252624, hidden_layer_sizes=(2), learning_rate = 'constant', learning_rate_init = 0.03334278685932487, max_iter = 33650, solver = 'adam', validation_fraction = 0.07249783942314608, random_state = 1)\n",
    "clf4.fit(x1_train2, np.ravel(y_train2))\n",
    "Functions.regression_metrics(clf4, x1_cv2, y_cv2, x1_et2, y_et2)"
   ]
  }
 ],
 "metadata": {
  "kernelspec": {
   "display_name": "Python 3 (ipykernel)",
   "language": "python",
   "name": "python3"
  },
  "language_info": {
   "codemirror_mode": {
    "name": "ipython",
    "version": 3
   },
   "file_extension": ".py",
   "mimetype": "text/x-python",
   "name": "python",
   "nbconvert_exporter": "python",
   "pygments_lexer": "ipython3",
   "version": "3.9.12"
  },
  "toc": {
   "base_numbering": 1,
   "nav_menu": {},
   "number_sections": true,
   "sideBar": true,
   "skip_h1_title": false,
   "title_cell": "Table of Contents",
   "title_sidebar": "Contents",
   "toc_cell": false,
   "toc_position": {
    "height": "calc(100% - 180px)",
    "left": "10px",
    "top": "150px",
    "width": "165px"
   },
   "toc_section_display": true,
   "toc_window_display": true
  }
 },
 "nbformat": 4,
 "nbformat_minor": 5
}
