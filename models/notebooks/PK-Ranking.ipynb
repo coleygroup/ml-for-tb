{
 "cells": [
  {
   "cell_type": "code",
   "execution_count": 1,
   "id": "c65d6c14",
   "metadata": {},
   "outputs": [],
   "source": [
    "import tqdm\n",
    "import pickle\n",
    "import warnings\n",
    "import itertools\n",
    "import numpy as np\n",
    "import pandas as pd\n",
    "import matplotlib.pyplot as plt\n",
    "\n",
    "from xgboost import XGBClassifier\n",
    "from lightgbm import LGBMClassifier\n",
    "from catboost import CatBoostClassifier\n",
    "from sklearn.preprocessing import MinMaxScaler\n",
    "from sklearn.ensemble import RandomForestClassifier\n",
    "from sklearn.model_selection import train_test_split\n",
    "\n",
    "from pk.utils import threshold_analysis, heatmap\n",
    "from pk.file_handling import read_pk_dataset, read_pk_dataset_with_split\n",
    "from pk.preprocessing import calc_high_corr_feats, calc_low_variance_feats, scale_columns\n",
    "from pk.features import morgan_fingerprint\n",
    "from pk.model_selection import CrossValidator\n",
    "from pk.model_comparison import compare_models_optimizers_on_split, hypothesis_test_multiple_comparison\n",
    "\n",
    "from rdkit import Chem\n",
    "from rdkit.Chem import PandasTools\n",
    "\n",
    "tqdm.tqdm.pandas()"
   ]
  },
  {
   "cell_type": "code",
   "execution_count": 2,
   "id": "4a6c5206-ff76-47e2-bae2-97a741845660",
   "metadata": {},
   "outputs": [],
   "source": [
    "DATA_PATH = '../data/updatedPK.csv'\n",
    "\n",
    "TRAIN_PATH = '../data/pk_60_40_training_seed42.csv'\n",
    "VAL_PATH = '../data/pk_60_40_cv_seed42.csv'\n",
    "TEST_PATH = '../data/pk_60_40_et_seed42.csv'\n",
    "\n",
    "MODE = 'bin_class'\n",
    "\n",
    "TEST_SIZE = 0.2\n",
    "CROSS_VALIDATION_K = 5\n",
    "FP_NBITS = 64\n",
    "CORR_THRESH = 0.95\n",
    "VAR_THRESH = 0.1\n",
    "RANDOM_STATE = 42\n",
    "RANDOM_SEED = 0\n",
    "\n",
    "assert MODE in ('bin_class', 'reg', 'cat_class'), \\\n",
    "    f\"MODE, '{MODE}' is invalid.\"\n",
    "\n",
    "np.random.seed(RANDOM_SEED)"
   ]
  },
  {
   "cell_type": "markdown",
   "id": "60858a31-49d9-421d-97cd-8c6de9ecd4e2",
   "metadata": {},
   "source": [
    "### Read Data"
   ]
  },
  {
   "cell_type": "code",
   "execution_count": 3,
   "id": "e64074b6-30fb-4399-9ebd-143f6610a3aa",
   "metadata": {},
   "outputs": [
    {
     "name": "stdout",
     "output_type": "stream",
     "text": [
      "Shape of dataset = (190, 209)\n",
      "Columns with null values = ['Cmpd Name']\n",
      "Label distribution in train set:\n",
      "1    0.505263\n",
      "0    0.494737\n",
      "Name: AUC_bin, dtype: float64\n"
     ]
    },
    {
     "data": {
      "image/png": "[encoded data removed]",
      "text/plain": [
       "<Figure size 432x288 with 1 Axes>"
      ]
     },
     "metadata": {
      "needs_background": "light"
     },
     "output_type": "display_data"
    },
    {
     "name": "stdout",
     "output_type": "stream",
     "text": [
      "Shape of train data = (114, 4177)\n",
      "Columns with null values = []\n",
      "Shape of test data = (38, 4177)\n",
      "Columns with null values = []\n",
      "Shape of validation data = (38, 4177)\n",
      "Columns with null values = []\n",
      "Label distribution in train set:\n",
      "1    0.508772\n",
      "0    0.491228\n",
      "Name: AUC_bin, dtype: float64\n"
     ]
    },
    {
     "data": {
      "image/png": "[encoded data removed]",
      "text/plain": [
       "<Figure size 432x288 with 1 Axes>"
      ]
     },
     "metadata": {
      "needs_background": "light"
     },
     "output_type": "display_data"
    }
   ],
   "source": [
    "df_base, remove_cols = read_pk_dataset(DATA_PATH, mode=MODE)\n",
    "df_trn, df_val, df_tst, _ = read_pk_dataset_with_split(TRAIN_PATH, TEST_PATH, val_path=VAL_PATH, mode=MODE, ycol='AUC1')\n",
    "\n",
    "def predefined_split(df, split):\n",
    "    df_trn, df_val, df_tst = split\n",
    "    \n",
    "    df_train = df[df['mol'].isin(df_trn['mol'].values)]\n",
    "    df_valid = df[df['mol'].isin(df_val['mol'].values)]\n",
    "    df_test = df[df['mol'].isin(df_tst['mol'].values)]\n",
    "    \n",
    "    df_train = pd.concat([df_train, df_valid])\n",
    "    \n",
    "    df_train.reset_index(drop=True, inplace=True)\n",
    "    df_test.reset_index(drop=True, inplace=True)\n",
    "    \n",
    "    assert set(df_test['mol']) == set(df_tst['mol'])\n",
    "    assert set(df_train['mol']) == set(df_trn['mol']).union(set(df_val['mol']))\n",
    "    assert not df_train['mol'].isnull().sum() and not df_test['mol'].isnull().sum()\n",
    "    assert df_train['mol'].is_unique and df_test['mol'].is_unique\n",
    "    \n",
    "    return df_train, df_test\n",
    "\n",
    "df_train, df_test = predefined_split(df_base, [df_trn, df_val, df_tst])"
   ]
  },
  {
   "cell_type": "markdown",
   "id": "6e4b891d-39cb-409e-96d8-25668e7ece7f",
   "metadata": {},
   "source": [
    "### Pipeline 1 (Khadija's Work)"
   ]
  },
  {
   "cell_type": "code",
   "execution_count": 4,
   "id": "f60e8169-89d4-483f-baa6-d382f62083aa",
   "metadata": {
    "tags": []
   },
   "outputs": [],
   "source": [
    "X_trn_p1, y_trn_p1 = df_trn.drop(['mol', 'AUC', 'AUC_bin'], axis=1), df_trn['AUC_bin']\n",
    "X_val_p1, y_val_p1 = df_val.drop(['mol', 'AUC', 'AUC_bin'], axis=1), df_val['AUC_bin']\n",
    "X_tst_p1, y_tst_p1 = df_tst.drop(['mol', 'AUC', 'AUC_bin'], axis=1), df_tst['AUC_bin']"
   ]
  },
  {
   "cell_type": "code",
   "execution_count": 5,
   "id": "4a630c6d-61d6-4d3e-b207-52110244f657",
   "metadata": {
    "tags": []
   },
   "outputs": [
    {
     "name": "stdout",
     "output_type": "stream",
     "text": [
      "Training models using 'hyperopt'.\n",
      "\n",
      "Optimizing: RandomForestClassifier.\n",
      "100%|██████████| 2/2 [00:10<00:00,  5.00s/trial, best loss: -0.814222]\n",
      "Optimizing: XGBClassifier.\n",
      "100%|██████████| 2/2 [00:11<00:00,  5.74s/trial, best loss: -0.8036659999999999]\n",
      "Optimizing: LGBMClassifier.\n",
      "100%|██████████| 2/2 [00:02<00:00,  1.16s/trial, best loss: -0.85111]\n",
      "Optimizing: CatBoostClassifier.\n",
      "100%|██████████| 2/2 [00:19<00:00,  9.69s/trial, best loss: -0.8448340000000001]\n",
      "\n",
      "Model: RandomForestClassifier | Test auroc: 88.643\n",
      "Model: XGBClassifier | Test auroc: 89.474\n",
      "Model: LGBMClassifier | Test auroc: 86.42699999999999\n",
      "Model: CatBoostClassifier | Test auroc: 86.70400000000001\n",
      "\n",
      "Optimizer time = 65.265 s.\n",
      "\n",
      "Training models using 'optuna'.\n",
      "\n",
      "Optimizing: RandomForestClassifier.\n"
     ]
    },
    {
     "data": {
      "application/vnd.jupyter.widget-view+json": {
       "model_id": "4ab25f1ab68f4f1c839445c91844d781",
       "version_major": 2,
       "version_minor": 0
      },
      "text/plain": [
       "HBox(children=(HTML(value=''), FloatProgress(value=0.0, max=2.0), HTML(value='')))"
      ]
     },
     "metadata": {},
     "output_type": "display_data"
    },
    {
     "name": "stdout",
     "output_type": "stream",
     "text": [
      "\n",
      "Optimizing: XGBClassifier.\n"
     ]
    },
    {
     "data": {
      "application/vnd.jupyter.widget-view+json": {
       "model_id": "38e1ee9e164d46baae395082bb2d0d29",
       "version_major": 2,
       "version_minor": 0
      },
      "text/plain": [
       "HBox(children=(HTML(value=''), FloatProgress(value=0.0, max=2.0), HTML(value='')))"
      ]
     },
     "metadata": {},
     "output_type": "display_data"
    },
    {
     "name": "stdout",
     "output_type": "stream",
     "text": [
      "\n",
      "Optimizing: LGBMClassifier.\n"
     ]
    },
    {
     "data": {
      "application/vnd.jupyter.widget-view+json": {
       "model_id": "656796c677804630b6a43863b2e1b7b1",
       "version_major": 2,
       "version_minor": 0
      },
      "text/plain": [
       "HBox(children=(HTML(value=''), FloatProgress(value=0.0, max=2.0), HTML(value='')))"
      ]
     },
     "metadata": {},
     "output_type": "display_data"
    },
    {
     "name": "stdout",
     "output_type": "stream",
     "text": [
      "\n",
      "Optimizing: CatBoostClassifier.\n"
     ]
    },
    {
     "data": {
      "application/vnd.jupyter.widget-view+json": {
       "model_id": "a7573cca653b4b2daeb1242884a1795b",
       "version_major": 2,
       "version_minor": 0
      },
      "text/plain": [
       "HBox(children=(HTML(value=''), FloatProgress(value=0.0, max=2.0), HTML(value='')))"
      ]
     },
     "metadata": {},
     "output_type": "display_data"
    },
    {
     "name": "stdout",
     "output_type": "stream",
     "text": [
      "\n",
      "\n",
      "Model: RandomForestClassifier | Test auroc: 90.859\n",
      "Model: XGBClassifier | Test auroc: 87.535\n",
      "Model: LGBMClassifier | Test auroc: 87.535\n",
      "Model: CatBoostClassifier | Test auroc: 89.474\n",
      "\n",
      "Optimizer time = 84.004 s.\n",
      "\n",
      "Training models using 'random_search'.\n",
      "\n",
      "Optimizing: RandomForestClassifier.\n",
      "Fitting 5 folds for each of 5 candidates, totalling 25 fits\n",
      "  Time taken = 12s\n",
      "Optimizing: XGBClassifier.\n",
      "Fitting 5 folds for each of 5 candidates, totalling 25 fits\n",
      "  Time taken = 13s\n",
      "Optimizing: LGBMClassifier.\n",
      "Fitting 5 folds for each of 5 candidates, totalling 25 fits\n",
      "  Time taken = 2s\n",
      "Optimizing: CatBoostClassifier.\n",
      "Fitting 5 folds for each of 5 candidates, totalling 25 fits\n",
      "  Time taken = 32s\n",
      "\n",
      "Model: RandomForestClassifier | Test auroc: 88.92\n",
      "Model: XGBClassifier | Test auroc: 89.474\n",
      "Model: LGBMClassifier | Test auroc: 50.0\n",
      "Model: CatBoostClassifier | Test auroc: 88.92\n",
      "\n",
      "Optimizer time = 124.596 s.\n",
      "\n",
      "Total time = 273.866 s.\n"
     ]
    }
   ],
   "source": [
    "models = [RandomForestClassifier, XGBClassifier, LGBMClassifier, CatBoostClassifier]\n",
    "\n",
    "p1_trained_models, p1_test_metrics = \\\n",
    "    compare_models_optimizers_on_split(models, \n",
    "                                       X_trn_p1, y_trn_p1, \n",
    "                                       X_tst_p1, y_tst_p1, \n",
    "                                       X_val=X_val_p1, y_val=y_val_p1,\n",
    "                                       random_state=RANDOM_STATE,\n",
    "                                       random_seed=RANDOM_SEED,\n",
    "                                       max_evals=2,\n",
    "                                       val_mode='k_fold_random_split',\n",
    "                                       pipeline_suffix='P1')"
   ]
  },
  {
   "cell_type": "code",
   "execution_count": 6,
   "id": "2c64e4db-cb36-4811-8ea5-3628be5aa775",
   "metadata": {
    "tags": []
   },
   "outputs": [],
   "source": [
    "with open('../data/pipeline_1_trained_models.pkl', 'wb') as f:\n",
    "    pickle.dump(\n",
    "        {\n",
    "            'trained_models': p1_trained_models,\n",
    "            'test_metrics': p1_test_metrics\n",
    "        }, \n",
    "        f\n",
    "    )\n",
    "\n",
    "with open('../data/pipeline_1_trained_models.pkl', 'rb') as f:\n",
    "    pipeline_1 = pickle.load(f)\n",
    "    \n",
    "p1_trained_models, p1_test_metrics = pipeline_1['trained_models'], pipeline_1['test_metrics']"
   ]
  },
  {
   "cell_type": "markdown",
   "id": "33afc221-8762-4434-98e6-950aa7cfa9b4",
   "metadata": {},
   "source": [
    "### Pipeline 2 (Vedang's Work)"
   ]
  },
  {
   "cell_type": "code",
   "execution_count": 7,
   "id": "440ba940-9921-414b-b2fd-ba07e86a1a15",
   "metadata": {
    "tags": []
   },
   "outputs": [],
   "source": [
    "class FeatureEngineeringPipeline:\n",
    "    \n",
    "    def __init__(self, corr_thresh, var_thresh, fp_n_bits):\n",
    "        self.corr_thresh = corr_thresh\n",
    "        self.var_thresh = var_thresh\n",
    "        self.fp_n_bits = fp_n_bits\n",
    "        \n",
    "        self.ycol = None\n",
    "        self.scaler = None\n",
    "        self.cross_validator = None  # Not really used during inference\n",
    "        self.final_col_set = None\n",
    "        self.is_fit = False\n",
    "        \n",
    "    def fit_transform(self, df_train, df_test, remove_cols, ycol='AUC_bin'):\n",
    "        warnings.filterwarnings('ignore')\n",
    "        \n",
    "        # Create a copy to avoid changing original data\n",
    "        df_trn, df_tst = df_train.copy(), df_test.copy()\n",
    "    \n",
    "        # Remove high correlation features\n",
    "        high_corr_feats = calc_high_corr_feats(df_train, \n",
    "                                               remove_cols, \n",
    "                                               threshold=self.corr_thresh)\n",
    "        remove_cols.update(high_corr_feats)\n",
    "\n",
    "        # Remove low variance features\n",
    "        low_var_feats = calc_low_variance_feats(df_train,\n",
    "                                                remove_cols,\n",
    "                                                threshold=self.var_thresh)\n",
    "        remove_cols.update(low_var_feats)\n",
    "\n",
    "        # Scale columns\n",
    "        df_train_scaled, df_test_scaled, scaler = scale_columns(df_train, \n",
    "                                                                df_test, \n",
    "                                                                list(remove_cols))\n",
    "\n",
    "        # Add morgan fingerprints\n",
    "        df_train_scaled = morgan_fingerprint(df_train_scaled, n_bits=self.fp_n_bits)\n",
    "        df_test_scaled = morgan_fingerprint(df_test_scaled, n_bits=self.fp_n_bits)\n",
    "\n",
    "        # Create train and test sets\n",
    "        X_train, y_train = df_train_scaled.drop(remove_cols, axis=1), df_train_scaled[ycol]\n",
    "        X_test, y_test = df_test_scaled.drop(remove_cols, axis=1), df_test_scaled[ycol]\n",
    "\n",
    "        # Remove zero importance features\n",
    "        cv = CrossValidator()\n",
    "        cv.fit(X_train, y_train)\n",
    "        \n",
    "        remove_cols.update(cv.zero_imp_feats())\n",
    "        X_train.drop(cv.zero_imp_feats(), axis=1, inplace=True)\n",
    "        X_test.drop(cv.zero_imp_feats(), axis=1, inplace=True)\n",
    "        \n",
    "        # Set the is_fit flag\n",
    "        self.is_fit = True\n",
    "        \n",
    "        # Save objects to memory\n",
    "        self.ycol = ycol\n",
    "        self.scaler = scaler\n",
    "        self.cross_validator = cv\n",
    "        self.final_col_set = set(X_train.columns)\n",
    "\n",
    "        return X_train, y_train, X_test, y_test, remove_cols\n",
    "    \n",
    "    def transform(self, df_infer):\n",
    "        if not self.is_fit:\n",
    "            raise ValueError(f\"Object is not fit yet!\")\n",
    "            \n",
    "        if self.ycol not in df_infer.columns:\n",
    "            warnings.warn(f\"Label column, {self.ycol} not present in inference set.\")\n",
    "            \n",
    "        # Copy data to avoid changing it\n",
    "        df = df_infer.copy()\n",
    "        \n",
    "        # Add morgan fingerprint\n",
    "        df = morgan_fingerprint(df, n_bits=self.fp_n_bits)\n",
    "        \n",
    "        # Check if all columns are present\n",
    "        if self.final_col_set - set(df.columns):\n",
    "            raise ValueError(f\"Inference set doesn't have the following columns: {self.final_col_set - set(df_infer.columns)}.\")\n",
    "        \n",
    "        to_scale = set(self.scaler.feature_names_in_).intersection(self.final_col_set)\n",
    "        scale_extra = set(self.scaler.feature_names_in_) - self.final_col_set\n",
    "        \n",
    "        df_scale, df_not_scale = df[to_scale], df[self.final_col_set - to_scale]\n",
    "        \n",
    "        for col in scale_extra:\n",
    "            df_scale[col] = 0.\n",
    "            \n",
    "        scale_cols = df_scale.columns\n",
    "        \n",
    "        df_scaled = self.scaler.transform(df_scale)\n",
    "        df_scaled = pd.DataFrame(df_scaled, columns=scale_cols)\n",
    "        \n",
    "        df_scaled.drop(scale_extra, axis=1, inplace=True)\n",
    "        \n",
    "        df_combined = pd.concat([df_scaled, df_not_scale], axis=1)\n",
    "        \n",
    "        return df_combined"
   ]
  },
  {
   "cell_type": "code",
   "execution_count": 8,
   "id": "b3439e03-bc45-4d6c-a7c3-2a622ed6ebae",
   "metadata": {},
   "outputs": [],
   "source": [
    "fep_2 = FeatureEngineeringPipeline(corr_thresh=CORR_THRESH, var_thresh=VAR_THRESH, fp_n_bits=FP_NBITS)\n",
    "\n",
    "X_train, y_train, X_test, y_test, remove_cols = fep_2.fit_transform(df_train, df_test, remove_cols)\n",
    "\n",
    "X_trn_p2, X_val_p2, y_trn_p2, y_val_p2 = train_test_split(X_train, y_train, test_size=0.25, random_state=RANDOM_STATE)\n",
    "X_tst_p2, y_tst_p2 = X_test.copy(), y_test.copy()"
   ]
  },
  {
   "cell_type": "code",
   "execution_count": 9,
   "id": "f11b743e-fb2a-4833-85b0-f4ebe038668d",
   "metadata": {},
   "outputs": [
    {
     "name": "stdout",
     "output_type": "stream",
     "text": [
      "Training models using 'hyperopt'.\n",
      "\n",
      "Optimizing: RandomForestClassifier.\n",
      "100%|██████████| 20/20 [02:43<00:00,  8.19s/trial, best loss: -0.8107219999999999]\n",
      "Optimizing: XGBClassifier.\n",
      "100%|██████████| 20/20 [00:14<00:00,  1.40trial/s, best loss: -0.817332]          \n",
      "Optimizing: LGBMClassifier.\n",
      "100%|██████████| 20/20 [00:11<00:00,  1.77trial/s, best loss: -0.8421119999999999]\n",
      "Optimizing: CatBoostClassifier.\n",
      "Type: CatBoost\n",
      "Hyperopt space = {'iterations': <hyperopt.pyll.base.Apply object at 0x7f019bb1efd0>, 'depth': <hyperopt.pyll.base.Apply object at 0x7f0199e51400>, 'learning_rate': <hyperopt.pyll.base.Apply object at 0x7f0199e51520>, 'l2_leaf_reg': <hyperopt.pyll.base.Apply object at 0x7f0199e51790>, 'border_count': <hyperopt.pyll.base.Apply object at 0x7f0199e51670>, 'bagging_temperature': <hyperopt.pyll.base.Apply object at 0x7f019013da00>, 'random_strength': <hyperopt.pyll.base.Apply object at 0x7f019013db50>, 'verbose': False}\n",
      "Type: CatBoost\n",
      "100%|██████████| 20/20 [02:27<00:00,  7.40s/trial, best loss: -0.8634999999999999]\n",
      "\n",
      "Model: RandomForestClassifier | Test auroc: 90.859\n",
      "Model: XGBClassifier | Test auroc: 85.873\n",
      "Model: LGBMClassifier | Test auroc: 82.548\n",
      "Model: CatBoostClassifier | Test auroc: 87.535\n",
      "[LightGBM] [Warning] min_data_in_leaf is set=0, min_child_samples=20 will be ignored. Current value: min_data_in_leaf=0\n",
      "[LightGBM] [Warning] min_data_in_leaf is set=0, min_child_samples=20 will be ignored. Current value: min_data_in_leaf=0\n",
      "[LightGBM] [Warning] min_data_in_leaf is set=0, min_child_samples=20 will be ignored. Current value: min_data_in_leaf=0\n",
      "[LightGBM] [Warning] min_data_in_leaf is set=0, min_child_samples=20 will be ignored. Current value: min_data_in_leaf=0\n",
      "\n",
      "Optimizer time = 360.633 s.\n",
      "\n",
      "Training models using 'optuna'.\n",
      "\n",
      "Optimizing: RandomForestClassifier.\n"
     ]
    },
    {
     "data": {
      "application/vnd.jupyter.widget-view+json": {
       "model_id": "bc8a0a8471a0465786d12710c834de13",
       "version_major": 2,
       "version_minor": 0
      },
      "text/plain": [
       "HBox(children=(HTML(value=''), FloatProgress(value=0.0, max=20.0), HTML(value='')))"
      ]
     },
     "metadata": {},
     "output_type": "display_data"
    },
    {
     "name": "stdout",
     "output_type": "stream",
     "text": [
      "\n",
      "Optimizing: XGBClassifier.\n"
     ]
    },
    {
     "data": {
      "application/vnd.jupyter.widget-view+json": {
       "model_id": "f792eaa4e6b2456b963caba1be905c27",
       "version_major": 2,
       "version_minor": 0
      },
      "text/plain": [
       "HBox(children=(HTML(value=''), FloatProgress(value=0.0, max=20.0), HTML(value='')))"
      ]
     },
     "metadata": {},
     "output_type": "display_data"
    },
    {
     "name": "stdout",
     "output_type": "stream",
     "text": [
      "\n",
      "Optimizing: LGBMClassifier.\n"
     ]
    },
    {
     "data": {
      "application/vnd.jupyter.widget-view+json": {
       "model_id": "237590de1e5f48b0b31cb0d5b9aa8257",
       "version_major": 2,
       "version_minor": 0
      },
      "text/plain": [
       "HBox(children=(HTML(value=''), FloatProgress(value=0.0, max=20.0), HTML(value='')))"
      ]
     },
     "metadata": {},
     "output_type": "display_data"
    },
    {
     "name": "stdout",
     "output_type": "stream",
     "text": [
      "\n",
      "Optimizing: CatBoostClassifier.\n"
     ]
    },
    {
     "data": {
      "application/vnd.jupyter.widget-view+json": {
       "model_id": "30320ca536834810a8ea40925d181725",
       "version_major": 2,
       "version_minor": 0
      },
      "text/plain": [
       "HBox(children=(HTML(value=''), FloatProgress(value=0.0, max=20.0), HTML(value='')))"
      ]
     },
     "metadata": {},
     "output_type": "display_data"
    },
    {
     "name": "stdout",
     "output_type": "stream",
     "text": [
      "\n",
      "\n",
      "Model: RandomForestClassifier | Test auroc: 93.075\n",
      "Model: XGBClassifier | Test auroc: 86.981\n",
      "Model: LGBMClassifier | Test auroc: 87.535\n",
      "Model: CatBoostClassifier | Test auroc: 86.70400000000001\n",
      "\n",
      "Optimizer time = 409.512 s.\n",
      "\n",
      "Training models using 'random_search'.\n",
      "\n",
      "Optimizing: RandomForestClassifier.\n",
      "Fitting 5 folds for each of 5 candidates, totalling 25 fits\n",
      "  Time taken = 5s\n",
      "Optimizing: XGBClassifier.\n",
      "Fitting 5 folds for each of 5 candidates, totalling 25 fits\n",
      "  Time taken = 2s\n",
      "Optimizing: LGBMClassifier.\n",
      "Fitting 5 folds for each of 5 candidates, totalling 25 fits\n",
      "  Time taken = 1s\n",
      "Optimizing: CatBoostClassifier.\n",
      "Fitting 5 folds for each of 5 candidates, totalling 25 fits\n",
      "  Time taken = 25s\n",
      "\n",
      "Model: RandomForestClassifier | Test auroc: 91.136\n",
      "Model: XGBClassifier | Test auroc: 87.258\n",
      "Model: LGBMClassifier | Test auroc: 50.0\n",
      "Model: CatBoostClassifier | Test auroc: 89.751\n",
      "\n",
      "Optimizer time = 82.008 s.\n",
      "\n",
      "Total time = 852.153 s.\n"
     ]
    }
   ],
   "source": [
    "models = [RandomForestClassifier, XGBClassifier, LGBMClassifier, CatBoostClassifier]\n",
    "\n",
    "p2_trained_models, p2_test_metrics = \\\n",
    "    compare_models_optimizers_on_split(models, \n",
    "                                       X_trn_p2, y_trn_p2, \n",
    "                                       X_tst_p2, y_tst_p2, \n",
    "                                       X_val=X_val_p2, y_val=y_val_p2,\n",
    "                                       random_state=RANDOM_STATE,\n",
    "                                       random_seed=RANDOM_SEED,\n",
    "                                       max_evals=20,\n",
    "                                       val_mode='k_fold_random_split',\n",
    "                                       pipeline_suffix='P2')"
   ]
  },
  {
   "cell_type": "code",
   "execution_count": 11,
   "id": "e7fcda8f-ebac-4e20-bc28-e27ae610b297",
   "metadata": {},
   "outputs": [],
   "source": [
    "with open('../data/pipeline_2_trained_models.pkl', 'wb') as f:\n",
    "    pickle.dump(\n",
    "        {\n",
    "            'trained_models': p2_trained_models,\n",
    "            'test_metrics': p2_test_metrics\n",
    "        },\n",
    "        f\n",
    "    )\n",
    "\n",
    "with open('../data/pipeline_2_trained_models.pkl', 'rb') as f:\n",
    "    pipeline_2 = pickle.load(f)\n",
    "    \n",
    "p2_trained_models, p2_test_metrics = pipeline_2['trained_models'], pipeline_2['test_metrics']"
   ]
  },
  {
   "cell_type": "code",
   "execution_count": 12,
   "id": "688bb16a-8ee0-4ace-ba99-40689823d7d0",
   "metadata": {},
   "outputs": [],
   "source": [
    "trained_models = {}\n",
    "trained_models.update(p1_trained_models)\n",
    "trained_models.update(p2_trained_models)\n",
    "\n",
    "test_metrics = pd.concat([p1_test_metrics, p2_test_metrics], axis=0).sort_values('auroc', axis=0, ascending=False)\n",
    "test_metrics.set_index('model', inplace=True)"
   ]
  },
  {
   "cell_type": "markdown",
   "id": "9a88897f-47e1-464c-950b-5c01c8ab01ce",
   "metadata": {},
   "source": [
    "### Model Comparison"
   ]
  },
  {
   "cell_type": "code",
   "execution_count": 12,
   "id": "bca8469f-7c39-4166-a080-dcc5ed073ee4",
   "metadata": {},
   "outputs": [
    {
     "name": "stdout",
     "output_type": "stream",
     "text": [
      "\n",
      "Cochran's Q-Test.\n",
      "Q: 43.394\n",
      "p-value: 0.000\n",
      "p-value < alpha (0.05) => Reject H0.\n",
      "\n",
      "Conducting post-hoc tests.\n",
      "\n",
      "Combination: ('RandomForestClassifier/optuna/P2', 'RandomForestClassifier/optuna/P1'),\n",
      "\t p-value = 0.0\n",
      "\n",
      "Combination: ('RandomForestClassifier/optuna/P2', 'CatBoostClassifier/random_search/P2'),\n",
      "\t p-value = nan\n",
      "\n",
      "Combination: ('RandomForestClassifier/random_search/P2', 'RandomForestClassifier/optuna/P1'),\n",
      "\t p-value = 0.001\n",
      "\n",
      "Combination: ('RandomForestClassifier/optuna/P1', 'CatBoostClassifier/random_search/P2'),\n",
      "\t p-value = 0.0\n",
      "\n"
     ]
    },
    {
     "data": {
      "text/html": [
       "<div>\n",
       "<style scoped>\n",
       "    .dataframe tbody tr th:only-of-type {\n",
       "        vertical-align: middle;\n",
       "    }\n",
       "\n",
       "    .dataframe tbody tr th {\n",
       "        vertical-align: top;\n",
       "    }\n",
       "\n",
       "    .dataframe thead th {\n",
       "        text-align: right;\n",
       "    }\n",
       "</style>\n",
       "<table border=\"1\" class=\"dataframe\">\n",
       "  <thead>\n",
       "    <tr style=\"text-align: right;\">\n",
       "      <th></th>\n",
       "      <th>Model 1</th>\n",
       "      <th>Model 2</th>\n",
       "      <th>chi2</th>\n",
       "      <th>p</th>\n",
       "      <th>alpha</th>\n",
       "      <th>Reject H0</th>\n",
       "    </tr>\n",
       "  </thead>\n",
       "  <tbody>\n",
       "    <tr>\n",
       "      <th>0</th>\n",
       "      <td>RandomForestClassifier/optuna/P2</td>\n",
       "      <td>RandomForestClassifier/random_search/P2</td>\n",
       "      <td>1.000000</td>\n",
       "      <td>0.317311</td>\n",
       "      <td>0.005</td>\n",
       "      <td>False</td>\n",
       "    </tr>\n",
       "    <tr>\n",
       "      <th>1</th>\n",
       "      <td>RandomForestClassifier/optuna/P2</td>\n",
       "      <td>RandomForestClassifier/optuna/P1</td>\n",
       "      <td>14.000000</td>\n",
       "      <td>0.000183</td>\n",
       "      <td>0.005</td>\n",
       "      <td>True</td>\n",
       "    </tr>\n",
       "    <tr>\n",
       "      <th>2</th>\n",
       "      <td>RandomForestClassifier/optuna/P2</td>\n",
       "      <td>RandomForestClassifier/hyperopt/P2</td>\n",
       "      <td>2.000000</td>\n",
       "      <td>0.157299</td>\n",
       "      <td>0.005</td>\n",
       "      <td>False</td>\n",
       "    </tr>\n",
       "    <tr>\n",
       "      <th>3</th>\n",
       "      <td>RandomForestClassifier/optuna/P2</td>\n",
       "      <td>CatBoostClassifier/random_search/P2</td>\n",
       "      <td>NaN</td>\n",
       "      <td>NaN</td>\n",
       "      <td>0.005</td>\n",
       "      <td>True</td>\n",
       "    </tr>\n",
       "    <tr>\n",
       "      <th>4</th>\n",
       "      <td>RandomForestClassifier/random_search/P2</td>\n",
       "      <td>RandomForestClassifier/optuna/P1</td>\n",
       "      <td>11.266667</td>\n",
       "      <td>0.000789</td>\n",
       "      <td>0.005</td>\n",
       "      <td>True</td>\n",
       "    </tr>\n",
       "    <tr>\n",
       "      <th>5</th>\n",
       "      <td>RandomForestClassifier/random_search/P2</td>\n",
       "      <td>RandomForestClassifier/hyperopt/P2</td>\n",
       "      <td>1.000000</td>\n",
       "      <td>0.317311</td>\n",
       "      <td>0.005</td>\n",
       "      <td>False</td>\n",
       "    </tr>\n",
       "    <tr>\n",
       "      <th>6</th>\n",
       "      <td>RandomForestClassifier/random_search/P2</td>\n",
       "      <td>CatBoostClassifier/random_search/P2</td>\n",
       "      <td>1.000000</td>\n",
       "      <td>0.317311</td>\n",
       "      <td>0.005</td>\n",
       "      <td>False</td>\n",
       "    </tr>\n",
       "    <tr>\n",
       "      <th>7</th>\n",
       "      <td>RandomForestClassifier/optuna/P1</td>\n",
       "      <td>RandomForestClassifier/hyperopt/P2</td>\n",
       "      <td>9.000000</td>\n",
       "      <td>0.002700</td>\n",
       "      <td>0.005</td>\n",
       "      <td>False</td>\n",
       "    </tr>\n",
       "    <tr>\n",
       "      <th>8</th>\n",
       "      <td>RandomForestClassifier/optuna/P1</td>\n",
       "      <td>CatBoostClassifier/random_search/P2</td>\n",
       "      <td>14.000000</td>\n",
       "      <td>0.000183</td>\n",
       "      <td>0.005</td>\n",
       "      <td>True</td>\n",
       "    </tr>\n",
       "    <tr>\n",
       "      <th>9</th>\n",
       "      <td>RandomForestClassifier/hyperopt/P2</td>\n",
       "      <td>CatBoostClassifier/random_search/P2</td>\n",
       "      <td>2.000000</td>\n",
       "      <td>0.157299</td>\n",
       "      <td>0.005</td>\n",
       "      <td>False</td>\n",
       "    </tr>\n",
       "  </tbody>\n",
       "</table>\n",
       "</div>"
      ],
      "text/plain": [
       "                                   Model 1  \\\n",
       "0         RandomForestClassifier/optuna/P2   \n",
       "1         RandomForestClassifier/optuna/P2   \n",
       "2         RandomForestClassifier/optuna/P2   \n",
       "3         RandomForestClassifier/optuna/P2   \n",
       "4  RandomForestClassifier/random_search/P2   \n",
       "5  RandomForestClassifier/random_search/P2   \n",
       "6  RandomForestClassifier/random_search/P2   \n",
       "7         RandomForestClassifier/optuna/P1   \n",
       "8         RandomForestClassifier/optuna/P1   \n",
       "9       RandomForestClassifier/hyperopt/P2   \n",
       "\n",
       "                                   Model 2       chi2         p  alpha  \\\n",
       "0  RandomForestClassifier/random_search/P2   1.000000  0.317311  0.005   \n",
       "1         RandomForestClassifier/optuna/P1  14.000000  0.000183  0.005   \n",
       "2       RandomForestClassifier/hyperopt/P2   2.000000  0.157299  0.005   \n",
       "3      CatBoostClassifier/random_search/P2        NaN       NaN  0.005   \n",
       "4         RandomForestClassifier/optuna/P1  11.266667  0.000789  0.005   \n",
       "5       RandomForestClassifier/hyperopt/P2   1.000000  0.317311  0.005   \n",
       "6      CatBoostClassifier/random_search/P2   1.000000  0.317311  0.005   \n",
       "7       RandomForestClassifier/hyperopt/P2   9.000000  0.002700  0.005   \n",
       "8      CatBoostClassifier/random_search/P2  14.000000  0.000183  0.005   \n",
       "9      CatBoostClassifier/random_search/P2   2.000000  0.157299  0.005   \n",
       "\n",
       "   Reject H0  \n",
       "0      False  \n",
       "1       True  \n",
       "2      False  \n",
       "3       True  \n",
       "4       True  \n",
       "5      False  \n",
       "6      False  \n",
       "7      False  \n",
       "8       True  \n",
       "9      False  "
      ]
     },
     "execution_count": 12,
     "metadata": {},
     "output_type": "execute_result"
    }
   ],
   "source": [
    "n_models = 5\n",
    "\n",
    "estimators = {}\n",
    "for i, m in enumerate(list(test_metrics.index)):\n",
    "    if i == n_models:\n",
    "        break\n",
    "    estimators[m] = trained_models[m]\n",
    "    \n",
    "predictions = []\n",
    "for name, est in estimators.items():\n",
    "    if 'P1' in name:\n",
    "        predictions.append(est.predict(X_tst_p1))\n",
    "    elif 'P2' in name:\n",
    "        predictions.append(est.predict(X_tst_p2))\n",
    "    else:\n",
    "        raise NameError(f\"Estimator '{name}' incorrectly named!\")\n",
    "        \n",
    "hypothesis_test_multiple_comparison(estimators, predictions, None, y_tst_p2)"
   ]
  },
  {
   "cell_type": "markdown",
   "id": "018617bd-cce3-40f6-88ca-a0c87bcb311a",
   "metadata": {},
   "source": [
    "### Inference on Test Set"
   ]
  },
  {
   "cell_type": "code",
   "execution_count": 15,
   "id": "e5b86a81-40d5-4b09-a927-01b8cef8c7db",
   "metadata": {},
   "outputs": [],
   "source": [
    "df_et = pd.read_csv('../data/external_test.csv')\n",
    "df_et.rename({'SMILES': 'mol'}, axis=1, inplace=True)\n",
    "\n",
    "X_et_2 = fep_2.transform(df_et)\n",
    "assert set(X_trn_p2.columns) == set(X_et_2.columns)"
   ]
  },
  {
   "cell_type": "code",
   "execution_count": 16,
   "id": "e769e22e-e446-4b03-ac98-ef3242204076",
   "metadata": {},
   "outputs": [],
   "source": [
    "def external_test_inference(trained_models, test_metrics, df_et, pipeline_features, threshold_type='best_f1', n_models=5, top_k=100, plot_heatmap=True):\n",
    "    \"\"\"\n",
    "    Parameters\n",
    "    ----------\n",
    "    threshold_type: str\n",
    "        One of 'best_f1', 'best_precision', 'best_j'\n",
    "    \"\"\"\n",
    "\n",
    "    top_models = test_metrics.head(n_models).index.values\n",
    "    overlaps = np.zeros((n_models, n_models))\n",
    "\n",
    "    et_results = df_et[['mol']].copy()\n",
    "    et_sorted_preds = pd.DataFrame()\n",
    "\n",
    "    models_to_idx = {}\n",
    "    for i, m in enumerate(top_models):\n",
    "        models_to_idx[m] = i\n",
    "        pipeline = 'P1' if 'P1' in m else 'P2'\n",
    "\n",
    "        # TODO: remove this\n",
    "        if pipeline == 'P1':\n",
    "            continue\n",
    "\n",
    "        et_results[m] = trained_models[m].predict_proba(pipeline_features[pipeline])[:, 1]\n",
    "        m_scores = trained_models[m].predict_proba(pipeline_features[pipeline])[:, 1]\n",
    "        et_sorted_preds[m] = df_et['mol'].values[np.argsort(m_scores)]\n",
    "                \n",
    "    et_results.set_index('mol', inplace=True)\n",
    "    \n",
    "    top_n_sorted_preds = et_sorted_preds.head(top_k)\n",
    "\n",
    "    for (m1, m2) in itertools.combinations(et_sorted_preds.columns, 2):\n",
    "        overlap = len(set(top_n_sorted_preds[m1]).intersection(set(top_n_sorted_preds[m2])))\n",
    "        overlaps[models_to_idx[m1], models_to_idx[m2]] = overlap\n",
    "        overlaps[models_to_idx[m2], models_to_idx[m1]] = overlap\n",
    "        \n",
    "    # overlaps /= top_k\n",
    "\n",
    "    if plot_heatmap:\n",
    "        fig, ax = plt.subplots(figsize=(7, 5))\n",
    "\n",
    "        _, _ = heatmap(overlaps, top_models, top_models, ax=ax,\n",
    "                       cmap=\"Reds\", cbarlabel=f\"top-{top_k} overlap\")\n",
    "\n",
    "        ax.set_title(f\"Top {top_k} overlap between {n_models} best models\")\n",
    "        fig.tight_layout()\n",
    "        plt.show()\n",
    "        \n",
    "    return et_results, et_sorted_preds"
   ]
  },
  {
   "cell_type": "code",
   "execution_count": 17,
   "id": "20db9697-43bf-4a82-b90a-891aa8218139",
   "metadata": {},
   "outputs": [
    {
     "data": {
      "image/png": "[encoded data removed]",
      "text/plain": [
       "<Figure size 504x360 with 2 Axes>"
      ]
     },
     "metadata": {
      "needs_background": "light"
     },
     "output_type": "display_data"
    }
   ],
   "source": [
    "et_results, et_sorted_preds = external_test_inference(trained_models, test_metrics, df_et, {'P2': X_et_2}, plot_heatmap=True)"
   ]
  },
  {
   "cell_type": "markdown",
   "id": "b4269b6f-bd9d-495d-8daf-ded457f4d63a",
   "metadata": {},
   "source": [
    "#### Assumption 1: Probabilities are a mixture of Gaussians"
   ]
  },
  {
   "cell_type": "code",
   "execution_count": 37,
   "id": "b400ce80-19e2-483e-a646-6b80084e69a3",
   "metadata": {},
   "outputs": [
    {
     "data": {
      "image/png": "[encoded data removed]",
      "text/plain": [
       "<Figure size 720x720 with 4 Axes>"
      ]
     },
     "metadata": {
      "needs_background": "light"
     },
     "output_type": "display_data"
    }
   ],
   "source": [
    "fig, axes = plt.subplots(2, 2, figsize=(10, 10))\n",
    "\n",
    "et_results['RandomForestClassifier/optuna/P2'].hist(bins=20, ax=axes[0][0])\n",
    "et_results['RandomForestClassifier/random_search/P2'].hist(bins=20, ax=axes[0][1])\n",
    "et_results['RandomForestClassifier/hyperopt/P2'].hist(bins=20, ax=axes[1][0])\n",
    "et_results['CatBoostClassifier/random_search/P2'].hist(bins=20, ax=axes[1][1])\n",
    "\n",
    "plt.show()"
   ]
  },
  {
   "cell_type": "markdown",
   "id": "d7bb112c-15c5-469f-8ec8-a670fe43a4f9",
   "metadata": {},
   "source": [
    "Eyeballing, we see that this is probably not true."
   ]
  },
  {
   "cell_type": "markdown",
   "id": "2cbbf861-9fe6-47fd-8c1d-52af220ad93d",
   "metadata": {},
   "source": [
    "#### Assumption 2: Probabilities follow a normal distribution\n",
    "\n",
    "The strategy could be to choose the 95th percentile in the distribution."
   ]
  },
  {
   "cell_type": "code",
   "execution_count": 114,
   "id": "401438e7-24f9-4401-a3ac-4a8835790337",
   "metadata": {},
   "outputs": [
    {
     "data": {
      "text/plain": [
       "0.35522941285698617"
      ]
     },
     "execution_count": 114,
     "metadata": {},
     "output_type": "execute_result"
    }
   ],
   "source": [
    "revised_thresh"
   ]
  },
  {
   "cell_type": "code",
   "execution_count": 128,
   "id": "b8f27b02-4a54-4246-b03d-0fac578b33ef",
   "metadata": {},
   "outputs": [],
   "source": [
    "revised_thresh = {}\n",
    "model_names = [col for col in et_results if col != 'mol']\n",
    "\n",
    "for col in model_names:\n",
    "    q95 = et_results[col].quantile(0.95)\n",
    "    best_prec_thresh = test_metrics.loc[col, 'thresh_values']['best_f1_thresh']\n",
    "    \n",
    "    if q95 > best_prec_thresh:\n",
    "        revised_thresh[col] = best_prec_thresh\n",
    "    else:\n",
    "        revised_thresh[col] = q95\n",
    "    \n",
    "for col in model_names:\n",
    "    master[col + '_pred'] = master[col].apply(lambda x: int(x >= revised_thresh[col]))"
   ]
  },
  {
   "cell_type": "code",
   "execution_count": 129,
   "id": "e973bd12-7752-44c2-b5b5-a7ea8bbbf736",
   "metadata": {},
   "outputs": [
    {
     "data": {
      "text/plain": [
       "{'RandomForestClassifier/optuna/P2': 0.3860502577319588,\n",
       " 'RandomForestClassifier/random_search/P2': 0.42066935286935286,\n",
       " 'RandomForestClassifier/hyperopt/P2': 0.44301239291431094,\n",
       " 'CatBoostClassifier/random_search/P2': 0.35522941285698617}"
      ]
     },
     "execution_count": 129,
     "metadata": {},
     "output_type": "execute_result"
    }
   ],
   "source": [
    "revised_thresh"
   ]
  },
  {
   "cell_type": "code",
   "execution_count": 131,
   "id": "f2fb78ae-f56d-43af-b7e2-b579ec02de47",
   "metadata": {},
   "outputs": [
    {
     "data": {
      "image/png": "[encoded data removed]",
      "text/plain": [
       "<Figure size 2016x504 with 1 Axes>"
      ]
     },
     "metadata": {
      "needs_background": "light"
     },
     "output_type": "display_data"
    }
   ],
   "source": [
    "unique_clusters = sorted(master['Cluster'].unique())\n",
    "unique_clusters\n",
    "\n",
    "cc_by_model = {}\n",
    "for col in model_names:\n",
    "    val_counts = dict(master[master[col + '_pred'] == 1]['Cluster'].value_counts())\n",
    "    cluster_counts = list({k: val_counts.get(k, 0) for k in unique_clusters}.values())\n",
    "    cc_by_model[col] = cluster_counts\n",
    "    \n",
    "x = np.arange(len(unique_clusters))  # the label locations\n",
    "width = 0.25  # the width of the bars\n",
    "multiplier = 1\n",
    "\n",
    "fig, ax = plt.subplots(layout='tight', figsize=(28, 7))\n",
    "\n",
    "for attribute, measurement in cc_by_model.items():\n",
    "    offset = width * multiplier\n",
    "    rects = ax.bar(x + offset, measurement, width, label=attribute)\n",
    "    ax.bar_label(rects, padding=5)\n",
    "    multiplier += 1\n",
    "\n",
    "# Add some text for labels, title and custom x-axis tick labels, etc.\n",
    "ax.set_ylabel('Count')\n",
    "ax.set_title('Cluster representation in positives by model')\n",
    "ax.set_xticks(x + width, unique_clusters)\n",
    "ax.set_xlabel('Cluster')\n",
    "ax.legend(loc='upper left')\n",
    "ax.set_ylim(0, 13)\n",
    "\n",
    "plt.show()"
   ]
  },
  {
   "cell_type": "code",
   "execution_count": 132,
   "id": "a4511bf7-282c-4520-aed4-aad0393547d0",
   "metadata": {},
   "outputs": [
    {
     "data": {
      "text/html": [
       "<div>\n",
       "<style scoped>\n",
       "    .dataframe tbody tr th:only-of-type {\n",
       "        vertical-align: middle;\n",
       "    }\n",
       "\n",
       "    .dataframe tbody tr th {\n",
       "        vertical-align: top;\n",
       "    }\n",
       "\n",
       "    .dataframe thead th {\n",
       "        text-align: right;\n",
       "    }\n",
       "</style>\n",
       "<table border=\"1\" class=\"dataframe\">\n",
       "  <thead>\n",
       "    <tr style=\"text-align: right;\">\n",
       "      <th></th>\n",
       "      <th>Model</th>\n",
       "      <th>Threshold</th>\n",
       "    </tr>\n",
       "  </thead>\n",
       "  <tbody>\n",
       "    <tr>\n",
       "      <th>0</th>\n",
       "      <td>RandomForestClassifier/optuna/P2</td>\n",
       "      <td>0.38605</td>\n",
       "    </tr>\n",
       "    <tr>\n",
       "      <th>1</th>\n",
       "      <td>RandomForestClassifier/random_search/P2</td>\n",
       "      <td>0.42067</td>\n",
       "    </tr>\n",
       "    <tr>\n",
       "      <th>2</th>\n",
       "      <td>RandomForestClassifier/hyperopt/P2</td>\n",
       "      <td>0.44301</td>\n",
       "    </tr>\n",
       "    <tr>\n",
       "      <th>3</th>\n",
       "      <td>CatBoostClassifier/random_search/P2</td>\n",
       "      <td>0.35523</td>\n",
       "    </tr>\n",
       "  </tbody>\n",
       "</table>\n",
       "</div>"
      ],
      "text/plain": [
       "                                     Model  Threshold\n",
       "0         RandomForestClassifier/optuna/P2    0.38605\n",
       "1  RandomForestClassifier/random_search/P2    0.42067\n",
       "2       RandomForestClassifier/hyperopt/P2    0.44301\n",
       "3      CatBoostClassifier/random_search/P2    0.35523"
      ]
     },
     "execution_count": 132,
     "metadata": {},
     "output_type": "execute_result"
    }
   ],
   "source": [
    "thresh_df = pd.DataFrame(list(revised_thresh.items()), columns=['Model', 'Threshold'])\n",
    "thresh_df['Threshold'] = thresh_df['Threshold'].apply(lambda x: np.round(x, 5))\n",
    "thresh_df"
   ]
  },
  {
   "cell_type": "code",
   "execution_count": 133,
   "id": "93bd8bb3-be8c-470f-be8e-63b431387d81",
   "metadata": {},
   "outputs": [
    {
     "data": {
      "text/html": [
       "<div>\n",
       "<style scoped>\n",
       "    .dataframe tbody tr th:only-of-type {\n",
       "        vertical-align: middle;\n",
       "    }\n",
       "\n",
       "    .dataframe tbody tr th {\n",
       "        vertical-align: top;\n",
       "    }\n",
       "\n",
       "    .dataframe thead th {\n",
       "        text-align: right;\n",
       "    }\n",
       "</style>\n",
       "<table border=\"1\" class=\"dataframe\">\n",
       "  <thead>\n",
       "    <tr style=\"text-align: right;\">\n",
       "      <th></th>\n",
       "      <th>auroc</th>\n",
       "      <th>lb</th>\n",
       "      <th>ub</th>\n",
       "      <th>thresh_values</th>\n",
       "    </tr>\n",
       "    <tr>\n",
       "      <th>model</th>\n",
       "      <th></th>\n",
       "      <th></th>\n",
       "      <th></th>\n",
       "      <th></th>\n",
       "    </tr>\n",
       "  </thead>\n",
       "  <tbody>\n",
       "    <tr>\n",
       "      <th>RandomForestClassifier/optuna/P2</th>\n",
       "      <td>93.075</td>\n",
       "      <td>0.0</td>\n",
       "      <td>100.0</td>\n",
       "      <td>{'best_f1_thresh': 0.5344716494845361, 'best_p...</td>\n",
       "    </tr>\n",
       "    <tr>\n",
       "      <th>RandomForestClassifier/random_search/P2</th>\n",
       "      <td>91.136</td>\n",
       "      <td>0.0</td>\n",
       "      <td>100.0</td>\n",
       "      <td>{'best_f1_thresh': 0.49800086580086567, 'best_...</td>\n",
       "    </tr>\n",
       "    <tr>\n",
       "      <th>RandomForestClassifier/optuna/P1</th>\n",
       "      <td>91.136</td>\n",
       "      <td>0.0</td>\n",
       "      <td>100.0</td>\n",
       "      <td>{'best_f1_thresh': 0.6469157801892119, 'best_p...</td>\n",
       "    </tr>\n",
       "    <tr>\n",
       "      <th>RandomForestClassifier/hyperopt/P2</th>\n",
       "      <td>90.859</td>\n",
       "      <td>0.0</td>\n",
       "      <td>100.0</td>\n",
       "      <td>{'best_f1_thresh': 0.5025820155903867, 'best_p...</td>\n",
       "    </tr>\n",
       "    <tr>\n",
       "      <th>CatBoostClassifier/random_search/P2</th>\n",
       "      <td>89.751</td>\n",
       "      <td>0.0</td>\n",
       "      <td>100.0</td>\n",
       "      <td>{'best_f1_thresh': 0.35522941285698617, 'best_...</td>\n",
       "    </tr>\n",
       "    <tr>\n",
       "      <th>XGBClassifier/random_search/P1</th>\n",
       "      <td>89.474</td>\n",
       "      <td>0.0</td>\n",
       "      <td>100.0</td>\n",
       "      <td>{'best_f1_thresh': 0.5024372339248657, 'best_p...</td>\n",
       "    </tr>\n",
       "    <tr>\n",
       "      <th>XGBClassifier/hyperopt/P1</th>\n",
       "      <td>89.474</td>\n",
       "      <td>0.0</td>\n",
       "      <td>100.0</td>\n",
       "      <td>{'best_f1_thresh': 0.5129990577697754, 'best_p...</td>\n",
       "    </tr>\n",
       "    <tr>\n",
       "      <th>CatBoostClassifier/random_search/P1</th>\n",
       "      <td>88.92</td>\n",
       "      <td>0.0</td>\n",
       "      <td>100.0</td>\n",
       "      <td>{'best_f1_thresh': 0.5583078615961959, 'best_p...</td>\n",
       "    </tr>\n",
       "    <tr>\n",
       "      <th>RandomForestClassifier/random_search/P1</th>\n",
       "      <td>88.92</td>\n",
       "      <td>0.0</td>\n",
       "      <td>100.0</td>\n",
       "      <td>{'best_f1_thresh': 0.5408569058736242, 'best_p...</td>\n",
       "    </tr>\n",
       "    <tr>\n",
       "      <th>RandomForestClassifier/hyperopt/P1</th>\n",
       "      <td>88.643</td>\n",
       "      <td>0.0</td>\n",
       "      <td>100.0</td>\n",
       "      <td>{'best_f1_thresh': 0.5128935436392243, 'best_p...</td>\n",
       "    </tr>\n",
       "    <tr>\n",
       "      <th>XGBClassifier/optuna/P1</th>\n",
       "      <td>88.366</td>\n",
       "      <td>0.0</td>\n",
       "      <td>100.0</td>\n",
       "      <td>{'best_f1_thresh': 0.5059443116188049, 'best_p...</td>\n",
       "    </tr>\n",
       "    <tr>\n",
       "      <th>CatBoostClassifier/hyperopt/P2</th>\n",
       "      <td>87.535</td>\n",
       "      <td>0.0</td>\n",
       "      <td>100.0</td>\n",
       "      <td>{'best_f1_thresh': 0.20063808547328343, 'best_...</td>\n",
       "    </tr>\n",
       "    <tr>\n",
       "      <th>LGBMClassifier/optuna/P2</th>\n",
       "      <td>87.535</td>\n",
       "      <td>0.0</td>\n",
       "      <td>100.0</td>\n",
       "      <td>{'best_f1_thresh': 0.9997696953442468, 'best_p...</td>\n",
       "    </tr>\n",
       "    <tr>\n",
       "      <th>XGBClassifier/random_search/P2</th>\n",
       "      <td>87.258</td>\n",
       "      <td>0.0</td>\n",
       "      <td>100.0</td>\n",
       "      <td>{'best_f1_thresh': 0.5185603499412537, 'best_p...</td>\n",
       "    </tr>\n",
       "    <tr>\n",
       "      <th>XGBClassifier/optuna/P2</th>\n",
       "      <td>86.981</td>\n",
       "      <td>0.0</td>\n",
       "      <td>100.0</td>\n",
       "      <td>{'best_f1_thresh': 0.49177294969558716, 'best_...</td>\n",
       "    </tr>\n",
       "    <tr>\n",
       "      <th>CatBoostClassifier/optuna/P1</th>\n",
       "      <td>86.704</td>\n",
       "      <td>0.0</td>\n",
       "      <td>100.0</td>\n",
       "      <td>{'best_f1_thresh': 0.8454459273059761, 'best_p...</td>\n",
       "    </tr>\n",
       "    <tr>\n",
       "      <th>CatBoostClassifier/hyperopt/P1</th>\n",
       "      <td>86.704</td>\n",
       "      <td>0.0</td>\n",
       "      <td>100.0</td>\n",
       "      <td>{'best_f1_thresh': 0.16051280295868936, 'best_...</td>\n",
       "    </tr>\n",
       "    <tr>\n",
       "      <th>CatBoostClassifier/optuna/P2</th>\n",
       "      <td>86.704</td>\n",
       "      <td>0.0</td>\n",
       "      <td>100.0</td>\n",
       "      <td>{'best_f1_thresh': 0.14490841663614248, 'best_...</td>\n",
       "    </tr>\n",
       "    <tr>\n",
       "      <th>LGBMClassifier/hyperopt/P1</th>\n",
       "      <td>86.427</td>\n",
       "      <td>0.0</td>\n",
       "      <td>100.0</td>\n",
       "      <td>{'best_f1_thresh': 0.3593432355239347, 'best_p...</td>\n",
       "    </tr>\n",
       "    <tr>\n",
       "      <th>LGBMClassifier/optuna/P1</th>\n",
       "      <td>86.15</td>\n",
       "      <td>0.0</td>\n",
       "      <td>100.0</td>\n",
       "      <td>{'best_f1_thresh': 0.35260883941030186, 'best_...</td>\n",
       "    </tr>\n",
       "    <tr>\n",
       "      <th>XGBClassifier/hyperopt/P2</th>\n",
       "      <td>85.873</td>\n",
       "      <td>0.0</td>\n",
       "      <td>100.0</td>\n",
       "      <td>{'best_f1_thresh': 0.4318983852863312, 'best_p...</td>\n",
       "    </tr>\n",
       "    <tr>\n",
       "      <th>LGBMClassifier/hyperopt/P2</th>\n",
       "      <td>82.548</td>\n",
       "      <td>0.0</td>\n",
       "      <td>100.0</td>\n",
       "      <td>{'best_f1_thresh': 0.9998942291316741, 'best_p...</td>\n",
       "    </tr>\n",
       "    <tr>\n",
       "      <th>LGBMClassifier/random_search/P1</th>\n",
       "      <td>50.0</td>\n",
       "      <td>0.0</td>\n",
       "      <td>100.0</td>\n",
       "      <td>{'best_f1_thresh': 0.5, 'best_prec_thresh': 0....</td>\n",
       "    </tr>\n",
       "    <tr>\n",
       "      <th>LGBMClassifier/random_search/P2</th>\n",
       "      <td>50.0</td>\n",
       "      <td>0.0</td>\n",
       "      <td>100.0</td>\n",
       "      <td>{'best_f1_thresh': 0.5, 'best_prec_thresh': 0....</td>\n",
       "    </tr>\n",
       "  </tbody>\n",
       "</table>\n",
       "</div>"
      ],
      "text/plain": [
       "                                          auroc   lb     ub  \\\n",
       "model                                                         \n",
       "RandomForestClassifier/optuna/P2         93.075  0.0  100.0   \n",
       "RandomForestClassifier/random_search/P2  91.136  0.0  100.0   \n",
       "RandomForestClassifier/optuna/P1         91.136  0.0  100.0   \n",
       "RandomForestClassifier/hyperopt/P2       90.859  0.0  100.0   \n",
       "CatBoostClassifier/random_search/P2      89.751  0.0  100.0   \n",
       "XGBClassifier/random_search/P1           89.474  0.0  100.0   \n",
       "XGBClassifier/hyperopt/P1                89.474  0.0  100.0   \n",
       "CatBoostClassifier/random_search/P1       88.92  0.0  100.0   \n",
       "RandomForestClassifier/random_search/P1   88.92  0.0  100.0   \n",
       "RandomForestClassifier/hyperopt/P1       88.643  0.0  100.0   \n",
       "XGBClassifier/optuna/P1                  88.366  0.0  100.0   \n",
       "CatBoostClassifier/hyperopt/P2           87.535  0.0  100.0   \n",
       "LGBMClassifier/optuna/P2                 87.535  0.0  100.0   \n",
       "XGBClassifier/random_search/P2           87.258  0.0  100.0   \n",
       "XGBClassifier/optuna/P2                  86.981  0.0  100.0   \n",
       "CatBoostClassifier/optuna/P1             86.704  0.0  100.0   \n",
       "CatBoostClassifier/hyperopt/P1           86.704  0.0  100.0   \n",
       "CatBoostClassifier/optuna/P2             86.704  0.0  100.0   \n",
       "LGBMClassifier/hyperopt/P1               86.427  0.0  100.0   \n",
       "LGBMClassifier/optuna/P1                  86.15  0.0  100.0   \n",
       "XGBClassifier/hyperopt/P2                85.873  0.0  100.0   \n",
       "LGBMClassifier/hyperopt/P2               82.548  0.0  100.0   \n",
       "LGBMClassifier/random_search/P1            50.0  0.0  100.0   \n",
       "LGBMClassifier/random_search/P2            50.0  0.0  100.0   \n",
       "\n",
       "                                                                             thresh_values  \n",
       "model                                                                                       \n",
       "RandomForestClassifier/optuna/P2         {'best_f1_thresh': 0.5344716494845361, 'best_p...  \n",
       "RandomForestClassifier/random_search/P2  {'best_f1_thresh': 0.49800086580086567, 'best_...  \n",
       "RandomForestClassifier/optuna/P1         {'best_f1_thresh': 0.6469157801892119, 'best_p...  \n",
       "RandomForestClassifier/hyperopt/P2       {'best_f1_thresh': 0.5025820155903867, 'best_p...  \n",
       "CatBoostClassifier/random_search/P2      {'best_f1_thresh': 0.35522941285698617, 'best_...  \n",
       "XGBClassifier/random_search/P1           {'best_f1_thresh': 0.5024372339248657, 'best_p...  \n",
       "XGBClassifier/hyperopt/P1                {'best_f1_thresh': 0.5129990577697754, 'best_p...  \n",
       "CatBoostClassifier/random_search/P1      {'best_f1_thresh': 0.5583078615961959, 'best_p...  \n",
       "RandomForestClassifier/random_search/P1  {'best_f1_thresh': 0.5408569058736242, 'best_p...  \n",
       "RandomForestClassifier/hyperopt/P1       {'best_f1_thresh': 0.5128935436392243, 'best_p...  \n",
       "XGBClassifier/optuna/P1                  {'best_f1_thresh': 0.5059443116188049, 'best_p...  \n",
       "CatBoostClassifier/hyperopt/P2           {'best_f1_thresh': 0.20063808547328343, 'best_...  \n",
       "LGBMClassifier/optuna/P2                 {'best_f1_thresh': 0.9997696953442468, 'best_p...  \n",
       "XGBClassifier/random_search/P2           {'best_f1_thresh': 0.5185603499412537, 'best_p...  \n",
       "XGBClassifier/optuna/P2                  {'best_f1_thresh': 0.49177294969558716, 'best_...  \n",
       "CatBoostClassifier/optuna/P1             {'best_f1_thresh': 0.8454459273059761, 'best_p...  \n",
       "CatBoostClassifier/hyperopt/P1           {'best_f1_thresh': 0.16051280295868936, 'best_...  \n",
       "CatBoostClassifier/optuna/P2             {'best_f1_thresh': 0.14490841663614248, 'best_...  \n",
       "LGBMClassifier/hyperopt/P1               {'best_f1_thresh': 0.3593432355239347, 'best_p...  \n",
       "LGBMClassifier/optuna/P1                 {'best_f1_thresh': 0.35260883941030186, 'best_...  \n",
       "XGBClassifier/hyperopt/P2                {'best_f1_thresh': 0.4318983852863312, 'best_p...  \n",
       "LGBMClassifier/hyperopt/P2               {'best_f1_thresh': 0.9998942291316741, 'best_p...  \n",
       "LGBMClassifier/random_search/P1          {'best_f1_thresh': 0.5, 'best_prec_thresh': 0....  \n",
       "LGBMClassifier/random_search/P2          {'best_f1_thresh': 0.5, 'best_prec_thresh': 0....  "
      ]
     },
     "execution_count": 133,
     "metadata": {},
     "output_type": "execute_result"
    }
   ],
   "source": [
    "test_metrics"
   ]
  },
  {
   "cell_type": "code",
   "execution_count": 134,
   "id": "f0a41285-b64f-45c4-985d-64eac9ca1821",
   "metadata": {},
   "outputs": [],
   "source": [
    "master_sel_cols = ['Molecule Index', 'Molecule Id', 'SMILES', 'molStripped', 'Cluster']\n",
    "master_sel_cols += model_names\n",
    "master_sel_cols += [col + '_pred' for col in model_names]\n",
    "\n",
    "master[master_sel_cols].to_csv('../data/master_top_95p_mar_23.csv')\n",
    "thresh_df.to_csv('../data/master_top_95p_mar_23_thresholds.csv')"
   ]
  },
  {
   "cell_type": "code",
   "execution_count": 17,
   "id": "a01899a2-f3ed-47fe-975a-f155757634af",
   "metadata": {},
   "outputs": [],
   "source": [
    "class ScoringFunction:\n",
    "    \n",
    "    def __init__(self, test_metrics):\n",
    "        self.test_metrics = test_metrics\n",
    "\n",
    "    def score_molecule(self, row):\n",
    "        score = 0\n",
    "        for model in list(row.keys()):\n",
    "            score += self.test_metrics.loc[model]['auroc']*row[model]\n",
    "\n",
    "        return round(score, 3)\n",
    "\n",
    "def predict_top_k_molecules(et_results, test_metrics, strategy='score'):\n",
    "    \n",
    "    scaler = MinMaxScaler()\n",
    "    \n",
    "    idx = et_results.index\n",
    "    et_results_scaled = pd.DataFrame(scaler.fit_transform(et_results.copy()), columns=et_results.columns)\n",
    "    et_results_scaled['mol'] = list(idx)\n",
    "    et_results_scaled.set_index('mol', inplace=True)\n",
    "    \n",
    "    if strategy == 'score':\n",
    "        scorer = ScoringFunction(test_metrics)\n",
    "        et_results_scaled['score'] = et_results_scaled.apply(scorer.score_molecule, axis=1)\n",
    "        et_results_scaled.sort_values('score', axis=0, ascending=False, inplace=True)\n",
    "    \n",
    "    elif strategy == 'sort':\n",
    "        et_results_scaled.sort_values(\n",
    "            [col for col in test_metrics.index if col in set(et_results.columns)],\n",
    "            axis=0,\n",
    "            ascending=False,\n",
    "            inplace=True)\n",
    "        et_results_scaled['score'] = range(1, et_results_scaled.shape[0]+1, 1)\n",
    "        \n",
    "    et_results_scaled.reset_index(drop=False, inplace=True)\n",
    "    et_results_scaled['ROMol'] = et_results_scaled['mol'].apply(lambda x: Chem.MolFromSmiles(x))\n",
    "\n",
    "    return et_results_scaled"
   ]
  },
  {
   "cell_type": "code",
   "execution_count": 18,
   "id": "384a2c31-53a1-4734-a5af-5fda27a77c68",
   "metadata": {},
   "outputs": [
    {
     "data": {
      "image/png": "[encoded data removed]",
      "text/plain": [
       "<IPython.core.display.Image object>"
      ]
     },
     "execution_count": 18,
     "metadata": {},
     "output_type": "execute_result"
    }
   ],
   "source": [
    "et_preds_scored = predict_top_k_molecules(et_results, test_metrics, strategy='score')\n",
    "PandasTools.FrameToGridImage(et_preds_scored.head(8), legendsCol=\"score\", molsPerRow=4)"
   ]
  },
  {
   "cell_type": "code",
   "execution_count": 19,
   "id": "8b2f87bf-236f-4c81-aca7-0a5d2f727ac8",
   "metadata": {},
   "outputs": [],
   "source": [
    "et_preds_scored.to_csv('../data/et_preds_scored_p2.csv')"
   ]
  },
  {
   "cell_type": "code",
   "execution_count": 20,
   "id": "d1a1fb99-f545-4080-9bf3-849cafb4b66d",
   "metadata": {},
   "outputs": [
    {
     "data": {
      "image/png": "[encoded data removed]",
      "text/plain": [
       "<IPython.core.display.Image object>"
      ]
     },
     "execution_count": 20,
     "metadata": {},
     "output_type": "execute_result"
    }
   ],
   "source": [
    "et_preds_sorted = predict_top_k_molecules(et_results, test_metrics, strategy='sort')\n",
    "PandasTools.FrameToGridImage(et_preds_sorted.head(8), legendsCol=\"score\", molsPerRow=4)"
   ]
  },
  {
   "cell_type": "code",
   "execution_count": 21,
   "id": "b30cf45b-173a-4c54-b21f-cff4e0d6bed1",
   "metadata": {},
   "outputs": [],
   "source": [
    "et_preds_sorted.to_csv('../data/et_preds_sorted_p2.csv')"
   ]
  },
  {
   "cell_type": "code",
   "execution_count": 22,
   "id": "b58b8dd7-a6ac-4c5d-ba2a-13bac99c7e28",
   "metadata": {},
   "outputs": [
    {
     "data": {
      "text/html": [
       "<div>\n",
       "<style scoped>\n",
       "    .dataframe tbody tr th:only-of-type {\n",
       "        vertical-align: middle;\n",
       "    }\n",
       "\n",
       "    .dataframe tbody tr th {\n",
       "        vertical-align: top;\n",
       "    }\n",
       "\n",
       "    .dataframe thead th {\n",
       "        text-align: right;\n",
       "    }\n",
       "</style>\n",
       "<table border=\"1\" class=\"dataframe\">\n",
       "  <thead>\n",
       "    <tr style=\"text-align: right;\">\n",
       "      <th></th>\n",
       "      <th>RandomForestClassifier/optuna/P2</th>\n",
       "      <th>RandomForestClassifier/random_search/P2</th>\n",
       "      <th>RandomForestClassifier/hyperopt/P2</th>\n",
       "      <th>CatBoostClassifier/random_search/P2</th>\n",
       "    </tr>\n",
       "    <tr>\n",
       "      <th>mol</th>\n",
       "      <th></th>\n",
       "      <th></th>\n",
       "      <th></th>\n",
       "      <th></th>\n",
       "    </tr>\n",
       "  </thead>\n",
       "  <tbody>\n",
       "    <tr>\n",
       "      <th>O=C(Nc1c(Cc2ccccc2)cccc1)C1CCN(c2ncnc3sc4c(c23)CCCC4)CC1</th>\n",
       "      <td>0.367790</td>\n",
       "      <td>0.398114</td>\n",
       "      <td>0.438442</td>\n",
       "      <td>0.420543</td>\n",
       "    </tr>\n",
       "    <tr>\n",
       "      <th>O=C1C(=CNN2C(=O)c3c(sc4c3CCCC4)N=C2)CCCC1=Cc1ccccc1</th>\n",
       "      <td>0.382323</td>\n",
       "      <td>0.362193</td>\n",
       "      <td>0.426280</td>\n",
       "      <td>0.360764</td>\n",
       "    </tr>\n",
       "    <tr>\n",
       "      <th>Clc1ccc(-c2nc3c(c(C(=O)OCC4=Nc5sc6c(c5C(=O)N4)CCCC6)c2)cccc3)cc1</th>\n",
       "      <td>0.329463</td>\n",
       "      <td>0.405095</td>\n",
       "      <td>0.415577</td>\n",
       "      <td>0.550563</td>\n",
       "    </tr>\n",
       "    <tr>\n",
       "      <th>Fc1ccc(C(N2CCN(CC3=Nc4sc5c(c4C(=O)N3)CCC5)CC2)c2ccc(F)cc2)cc1</th>\n",
       "      <td>0.378825</td>\n",
       "      <td>0.448466</td>\n",
       "      <td>0.429216</td>\n",
       "      <td>0.425276</td>\n",
       "    </tr>\n",
       "    <tr>\n",
       "      <th>O=C1NC(c2c3c(nc(-c4ccccc4)c2)cccc3)=Nc2sc3c(c12)CCCC3</th>\n",
       "      <td>0.347723</td>\n",
       "      <td>0.382107</td>\n",
       "      <td>0.398629</td>\n",
       "      <td>0.481232</td>\n",
       "    </tr>\n",
       "    <tr>\n",
       "      <th>...</th>\n",
       "      <td>...</td>\n",
       "      <td>...</td>\n",
       "      <td>...</td>\n",
       "      <td>...</td>\n",
       "    </tr>\n",
       "    <tr>\n",
       "      <th>Clc1cc2nc(N3C(c4sccc4)CC(c4sccc4)=N3)nc(-c3ccccc3)c2cc1</th>\n",
       "      <td>0.304756</td>\n",
       "      <td>0.386098</td>\n",
       "      <td>0.421323</td>\n",
       "      <td>0.413136</td>\n",
       "    </tr>\n",
       "    <tr>\n",
       "      <th>Clc1cc2c(-c3ccccc3)nc(N3C(c4c(C)cccc4)CC(c4cc(OC)ccc4)=N3)nc2cc1</th>\n",
       "      <td>0.290488</td>\n",
       "      <td>0.390352</td>\n",
       "      <td>0.392658</td>\n",
       "      <td>0.513098</td>\n",
       "    </tr>\n",
       "    <tr>\n",
       "      <th>Clc1cc2c(-c3ccccc3)nc(N3C(c4ccc(OCC)cc4)CC(c4sccc4)=N3)nc2cc1</th>\n",
       "      <td>0.259303</td>\n",
       "      <td>0.317015</td>\n",
       "      <td>0.394699</td>\n",
       "      <td>0.430953</td>\n",
       "    </tr>\n",
       "    <tr>\n",
       "      <th>Brc1ccc(C2N(c3nc(-c4ccccc4)c4c(n3)ccc(Cl)c4)N=C(c3occc3)C2)cc1</th>\n",
       "      <td>0.297791</td>\n",
       "      <td>0.368787</td>\n",
       "      <td>0.403272</td>\n",
       "      <td>0.471051</td>\n",
       "    </tr>\n",
       "    <tr>\n",
       "      <th>Clc1cc2c(-c3ccccc3)nc(N3C(c4ccccc4)CC(c4occc4)=N3)nc2cc1</th>\n",
       "      <td>0.305523</td>\n",
       "      <td>0.379987</td>\n",
       "      <td>0.402477</td>\n",
       "      <td>0.471051</td>\n",
       "    </tr>\n",
       "  </tbody>\n",
       "</table>\n",
       "<p>956 rows × 4 columns</p>\n",
       "</div>"
      ],
      "text/plain": [
       "                                                    RandomForestClassifier/optuna/P2  \\\n",
       "mol                                                                                    \n",
       "O=C(Nc1c(Cc2ccccc2)cccc1)C1CCN(c2ncnc3sc4c(c23)...                          0.367790   \n",
       "O=C1C(=CNN2C(=O)c3c(sc4c3CCCC4)N=C2)CCCC1=Cc1cc...                          0.382323   \n",
       "Clc1ccc(-c2nc3c(c(C(=O)OCC4=Nc5sc6c(c5C(=O)N4)C...                          0.329463   \n",
       "Fc1ccc(C(N2CCN(CC3=Nc4sc5c(c4C(=O)N3)CCC5)CC2)c...                          0.378825   \n",
       "O=C1NC(c2c3c(nc(-c4ccccc4)c2)cccc3)=Nc2sc3c(c12...                          0.347723   \n",
       "...                                                                              ...   \n",
       "Clc1cc2nc(N3C(c4sccc4)CC(c4sccc4)=N3)nc(-c3cccc...                          0.304756   \n",
       "Clc1cc2c(-c3ccccc3)nc(N3C(c4c(C)cccc4)CC(c4cc(O...                          0.290488   \n",
       "Clc1cc2c(-c3ccccc3)nc(N3C(c4ccc(OCC)cc4)CC(c4sc...                          0.259303   \n",
       "Brc1ccc(C2N(c3nc(-c4ccccc4)c4c(n3)ccc(Cl)c4)N=C...                          0.297791   \n",
       "Clc1cc2c(-c3ccccc3)nc(N3C(c4ccccc4)CC(c4occc4)=...                          0.305523   \n",
       "\n",
       "                                                    RandomForestClassifier/random_search/P2  \\\n",
       "mol                                                                                           \n",
       "O=C(Nc1c(Cc2ccccc2)cccc1)C1CCN(c2ncnc3sc4c(c23)...                                 0.398114   \n",
       "O=C1C(=CNN2C(=O)c3c(sc4c3CCCC4)N=C2)CCCC1=Cc1cc...                                 0.362193   \n",
       "Clc1ccc(-c2nc3c(c(C(=O)OCC4=Nc5sc6c(c5C(=O)N4)C...                                 0.405095   \n",
       "Fc1ccc(C(N2CCN(CC3=Nc4sc5c(c4C(=O)N3)CCC5)CC2)c...                                 0.448466   \n",
       "O=C1NC(c2c3c(nc(-c4ccccc4)c2)cccc3)=Nc2sc3c(c12...                                 0.382107   \n",
       "...                                                                                     ...   \n",
       "Clc1cc2nc(N3C(c4sccc4)CC(c4sccc4)=N3)nc(-c3cccc...                                 0.386098   \n",
       "Clc1cc2c(-c3ccccc3)nc(N3C(c4c(C)cccc4)CC(c4cc(O...                                 0.390352   \n",
       "Clc1cc2c(-c3ccccc3)nc(N3C(c4ccc(OCC)cc4)CC(c4sc...                                 0.317015   \n",
       "Brc1ccc(C2N(c3nc(-c4ccccc4)c4c(n3)ccc(Cl)c4)N=C...                                 0.368787   \n",
       "Clc1cc2c(-c3ccccc3)nc(N3C(c4ccccc4)CC(c4occc4)=...                                 0.379987   \n",
       "\n",
       "                                                    RandomForestClassifier/hyperopt/P2  \\\n",
       "mol                                                                                      \n",
       "O=C(Nc1c(Cc2ccccc2)cccc1)C1CCN(c2ncnc3sc4c(c23)...                            0.438442   \n",
       "O=C1C(=CNN2C(=O)c3c(sc4c3CCCC4)N=C2)CCCC1=Cc1cc...                            0.426280   \n",
       "Clc1ccc(-c2nc3c(c(C(=O)OCC4=Nc5sc6c(c5C(=O)N4)C...                            0.415577   \n",
       "Fc1ccc(C(N2CCN(CC3=Nc4sc5c(c4C(=O)N3)CCC5)CC2)c...                            0.429216   \n",
       "O=C1NC(c2c3c(nc(-c4ccccc4)c2)cccc3)=Nc2sc3c(c12...                            0.398629   \n",
       "...                                                                                ...   \n",
       "Clc1cc2nc(N3C(c4sccc4)CC(c4sccc4)=N3)nc(-c3cccc...                            0.421323   \n",
       "Clc1cc2c(-c3ccccc3)nc(N3C(c4c(C)cccc4)CC(c4cc(O...                            0.392658   \n",
       "Clc1cc2c(-c3ccccc3)nc(N3C(c4ccc(OCC)cc4)CC(c4sc...                            0.394699   \n",
       "Brc1ccc(C2N(c3nc(-c4ccccc4)c4c(n3)ccc(Cl)c4)N=C...                            0.403272   \n",
       "Clc1cc2c(-c3ccccc3)nc(N3C(c4ccccc4)CC(c4occc4)=...                            0.402477   \n",
       "\n",
       "                                                    CatBoostClassifier/random_search/P2  \n",
       "mol                                                                                      \n",
       "O=C(Nc1c(Cc2ccccc2)cccc1)C1CCN(c2ncnc3sc4c(c23)...                             0.420543  \n",
       "O=C1C(=CNN2C(=O)c3c(sc4c3CCCC4)N=C2)CCCC1=Cc1cc...                             0.360764  \n",
       "Clc1ccc(-c2nc3c(c(C(=O)OCC4=Nc5sc6c(c5C(=O)N4)C...                             0.550563  \n",
       "Fc1ccc(C(N2CCN(CC3=Nc4sc5c(c4C(=O)N3)CCC5)CC2)c...                             0.425276  \n",
       "O=C1NC(c2c3c(nc(-c4ccccc4)c2)cccc3)=Nc2sc3c(c12...                             0.481232  \n",
       "...                                                                                 ...  \n",
       "Clc1cc2nc(N3C(c4sccc4)CC(c4sccc4)=N3)nc(-c3cccc...                             0.413136  \n",
       "Clc1cc2c(-c3ccccc3)nc(N3C(c4c(C)cccc4)CC(c4cc(O...                             0.513098  \n",
       "Clc1cc2c(-c3ccccc3)nc(N3C(c4ccc(OCC)cc4)CC(c4sc...                             0.430953  \n",
       "Brc1ccc(C2N(c3nc(-c4ccccc4)c4c(n3)ccc(Cl)c4)N=C...                             0.471051  \n",
       "Clc1cc2c(-c3ccccc3)nc(N3C(c4ccccc4)CC(c4occc4)=...                             0.471051  \n",
       "\n",
       "[956 rows x 4 columns]"
      ]
     },
     "execution_count": 22,
     "metadata": {},
     "output_type": "execute_result"
    }
   ],
   "source": [
    "et_results"
   ]
  },
  {
   "cell_type": "code",
   "execution_count": null,
   "id": "b7020c8f-e0ee-41a9-9f7b-916c10ffa267",
   "metadata": {},
   "outputs": [],
   "source": []
  },
  {
   "cell_type": "code",
   "execution_count": 20,
   "id": "6dfb51c7-60e7-4553-a6ca-01bc0ceb5ee1",
   "metadata": {},
   "outputs": [],
   "source": [
    "master = pd.read_csv('../data/KasADockedTop1000_Predictions Master_JSFedit030423.csv')"
   ]
  },
  {
   "cell_type": "code",
   "execution_count": 21,
   "id": "762f44b2-fab2-48ab-88b9-c2c8038634be",
   "metadata": {},
   "outputs": [],
   "source": [
    "et_results.reset_index(drop=False, inplace=True)"
   ]
  },
  {
   "cell_type": "code",
   "execution_count": 22,
   "id": "12676561-a67b-487e-ae70-eb5d6f28eaca",
   "metadata": {},
   "outputs": [
    {
     "data": {
      "text/plain": [
       "((956, 21), (956, 5))"
      ]
     },
     "execution_count": 22,
     "metadata": {},
     "output_type": "execute_result"
    }
   ],
   "source": [
    "master.shape, et_results.shape"
   ]
  },
  {
   "cell_type": "code",
   "execution_count": 25,
   "id": "efda077f-3ecc-4e1e-816d-03abdf74a0b1",
   "metadata": {},
   "outputs": [],
   "source": [
    "# master_2 = pd.read_csv('../data/master_top_95p_VW032223mar_22.csv')"
   ]
  },
  {
   "cell_type": "code",
   "execution_count": 42,
   "id": "9528ce2b-7b4b-4000-bc3a-3cc7c2b128e3",
   "metadata": {},
   "outputs": [
    {
     "data": {
      "text/plain": [
       "O=C(NC(Cc1ccccc1)c1[nH]c2c(n1)cccc2)C1CN(c2cc3OCCOc3cc2)C(=O)C1     2\n",
       "O=C(Nc1c(-c2ccccc2)cccc1)COC(=O)C1C(C(=O)N2c3c(cccc3)CC2)CCCC1      1\n",
       "O=C(NCc1c(-c2ccccc2)nn(Cc2ccccc2)c1)c1cc2N=C3N(C(=O)c2cc1)CCC3      1\n",
       "Clc1cc(CN2CCN(C(=O)c3c4c(C)noc4nc(-c4ccccc4)c3)CC2)ccc1             1\n",
       "Clc1ccc(-c2nc3c(c(C(=O)N4CCN(c5ccc(C(=O)C)cc5)CC4)c2)cccc3)cc1      1\n",
       "                                                                   ..\n",
       "O=C(Nc1cc(N2C(=O)CCC2)ccc1)C=Cc1c(-c2cnccc2)nn(-c2ccccc2)c1         1\n",
       "Clc1ccc(-c2c(C=C3C(=O)OC(c4ccccc4)=N3)cn(-c3ccccc3)n2)cc1           1\n",
       "O=C1N(Cc2c(-c3ccccc3)nn(-c3ccccc3)c2)C(=O)NC1Cc1ccccc1              1\n",
       "O=C(Oc1c(-c2sc3c(n2)cccc3)cccc1)c1c(-c2cc(C)ccc2)nn(-c2ccccc2)c1    1\n",
       "S(CC(=O)NN1C(=O)C(c2ccccc2)(c2ccccc2)NC1=O)c1nc2c(cc1)cccc2         1\n",
       "Name: SMILES, Length: 955, dtype: int64"
      ]
     },
     "execution_count": 42,
     "metadata": {},
     "output_type": "execute_result"
    }
   ],
   "source": [
    "master['SMILES'].value_counts()"
   ]
  },
  {
   "cell_type": "code",
   "execution_count": 41,
   "id": "edee6caa-2abd-4f49-a062-e18b1c6e063d",
   "metadata": {},
   "outputs": [
    {
     "data": {
      "text/plain": [
       "955"
      ]
     },
     "execution_count": 41,
     "metadata": {},
     "output_type": "execute_result"
    }
   ],
   "source": [
    "len(set(et_results['mol'])&set(master['SMILES']))"
   ]
  },
  {
   "cell_type": "code",
   "execution_count": 65,
   "id": "c8e9aa5d-3310-4a49-a1ba-02850e240b25",
   "metadata": {},
   "outputs": [],
   "source": [
    "master = master.drop_duplicates('SMILES', keep='first')"
   ]
  },
  {
   "cell_type": "code",
   "execution_count": 68,
   "id": "ce8dd1a9-8a2e-4294-8f02-a463e7422781",
   "metadata": {},
   "outputs": [],
   "source": [
    "et_results = et_results.drop_duplicates('mol', keep='first')"
   ]
  },
  {
   "cell_type": "code",
   "execution_count": 69,
   "id": "5f8a5975-6988-4f5c-bd92-523ae0b9ba0c",
   "metadata": {},
   "outputs": [],
   "source": [
    "master = pd.merge(master, et_results, how='left', left_on='SMILES', right_on='mol').drop(['mol'], axis=1)"
   ]
  },
  {
   "cell_type": "code",
   "execution_count": 70,
   "id": "63d5e920-2740-4609-b562-9b8e7ddb3c54",
   "metadata": {},
   "outputs": [
    {
     "data": {
      "text/plain": [
       "(955, 25)"
      ]
     },
     "execution_count": 70,
     "metadata": {},
     "output_type": "execute_result"
    }
   ],
   "source": [
    "master.shape"
   ]
  },
  {
   "cell_type": "code",
   "execution_count": 31,
   "id": "a0e1d8dc-708d-443e-847d-31262c20a659",
   "metadata": {},
   "outputs": [
    {
     "data": {
      "text/plain": [
       "{'best_f1_thresh': 0.5344716494845361,\n",
       " 'best_prec_thresh': 0.8475085910652921,\n",
       " 'best_f1': 0.8481675392670157,\n",
       " 'best_f1_prec': 0.8526315789473684,\n",
       " 'best_f1_rec': 0.84375,\n",
       " 'best_prec': 0.9473684210526315,\n",
       " 'best_prec_f1': 0.3130434782608696,\n",
       " 'best_prec_rec': 0.1875}"
      ]
     },
     "execution_count": 31,
     "metadata": {},
     "output_type": "execute_result"
    }
   ],
   "source": [
    "test_metrics['thresh_values'].iloc[0]"
   ]
  },
  {
   "cell_type": "code",
   "execution_count": 73,
   "id": "12bc3bdd-24b3-4277-b054-88c8ca2ea3f2",
   "metadata": {},
   "outputs": [],
   "source": [
    "master_2 = master_2.drop_duplicates('SMILES', keep='first')"
   ]
  },
  {
   "cell_type": "code",
   "execution_count": null,
   "id": "30be2bb9-3026-477e-9c4f-189338152a13",
   "metadata": {},
   "outputs": [],
   "source": [
    "master_2['RandomForestClassifier/random_search/P2'] == \\\n",
    "    master['RandomForestClassifier/random_search/P2']"
   ]
  },
  {
   "cell_type": "code",
   "execution_count": 81,
   "id": "d6edf9c7-d5ef-4ef5-8850-fc49e7f8de9e",
   "metadata": {},
   "outputs": [
    {
     "data": {
      "text/html": [
       "<div>\n",
       "<style scoped>\n",
       "    .dataframe tbody tr th:only-of-type {\n",
       "        vertical-align: middle;\n",
       "    }\n",
       "\n",
       "    .dataframe tbody tr th {\n",
       "        vertical-align: top;\n",
       "    }\n",
       "\n",
       "    .dataframe thead th {\n",
       "        text-align: right;\n",
       "    }\n",
       "</style>\n",
       "<table border=\"1\" class=\"dataframe\">\n",
       "  <thead>\n",
       "    <tr style=\"text-align: right;\">\n",
       "      <th></th>\n",
       "      <th>Unnamed: 0</th>\n",
       "      <th>Molecule Index</th>\n",
       "      <th>Molecule Id</th>\n",
       "      <th>SMILES</th>\n",
       "      <th>molStripped</th>\n",
       "      <th>Cluster</th>\n",
       "      <th>RandomForestClassifier/optuna/P2</th>\n",
       "      <th>RandomForestClassifier/random_search/P2</th>\n",
       "      <th>RandomForestClassifier/hyperopt/P2</th>\n",
       "      <th>CatBoostClassifier/random_search/P2</th>\n",
       "      <th>RandomForestClassifier/optuna/P2_pred</th>\n",
       "      <th>RandomForestClassifier/random_search/P2_pred</th>\n",
       "      <th>RandomForestClassifier/hyperopt/P2_pred</th>\n",
       "      <th>CatBoostClassifier/random_search/P2_pred</th>\n",
       "    </tr>\n",
       "  </thead>\n",
       "  <tbody>\n",
       "    <tr>\n",
       "      <th>0</th>\n",
       "      <td>166</td>\n",
       "      <td>0</td>\n",
       "      <td>Z57030687</td>\n",
       "      <td>O=C(Nc1c(Cc2ccccc2)cccc1)C1CCN(c2ncnc3sc4c(c23...</td>\n",
       "      <td>O=C(Nc1c(Cc2ccccc2)cccc1)C1CCN(c2ncnc3sc4c(c23...</td>\n",
       "      <td>0</td>\n",
       "      <td>0.367790</td>\n",
       "      <td>0.398114</td>\n",
       "      <td>0.438442</td>\n",
       "      <td>0.420543</td>\n",
       "      <td>0</td>\n",
       "      <td>0</td>\n",
       "      <td>0</td>\n",
       "      <td>0</td>\n",
       "    </tr>\n",
       "    <tr>\n",
       "      <th>1</th>\n",
       "      <td>68</td>\n",
       "      <td>1</td>\n",
       "      <td>Z56823499</td>\n",
       "      <td>O=C1C(=CNN2C(=O)c3c(sc4c3CCCC4)N=C2)CCCC1=Cc1c...</td>\n",
       "      <td>O=C1C(=CNN2C(=O)c3c(sc4c3CCCC4)N=C2)CCCC1=Cc1c...</td>\n",
       "      <td>0</td>\n",
       "      <td>0.382323</td>\n",
       "      <td>0.362193</td>\n",
       "      <td>0.426280</td>\n",
       "      <td>0.360764</td>\n",
       "      <td>0</td>\n",
       "      <td>0</td>\n",
       "      <td>0</td>\n",
       "      <td>0</td>\n",
       "    </tr>\n",
       "    <tr>\n",
       "      <th>2</th>\n",
       "      <td>483</td>\n",
       "      <td>2</td>\n",
       "      <td>Z53786665</td>\n",
       "      <td>Clc1ccc(-c2nc3c(c(C(=O)OCC4=Nc5sc6c(c5C(=O)N4)...</td>\n",
       "      <td>Clc1ccc(-c2nc3c(c(C(=O)OCC4=Nc5sc6c(c5C(=O)N4)...</td>\n",
       "      <td>0</td>\n",
       "      <td>0.329463</td>\n",
       "      <td>0.405095</td>\n",
       "      <td>0.415577</td>\n",
       "      <td>0.550563</td>\n",
       "      <td>0</td>\n",
       "      <td>0</td>\n",
       "      <td>0</td>\n",
       "      <td>0</td>\n",
       "    </tr>\n",
       "    <tr>\n",
       "      <th>3</th>\n",
       "      <td>69</td>\n",
       "      <td>3</td>\n",
       "      <td>Z105382408</td>\n",
       "      <td>Fc1ccc(C(N2CCN(CC3=Nc4sc5c(c4C(=O)N3)CCC5)CC2)...</td>\n",
       "      <td>Fc1ccc(C(N2CCN(CC3=Nc4sc5c(c4C(=O)N3)CCC5)CC2)...</td>\n",
       "      <td>0</td>\n",
       "      <td>0.378825</td>\n",
       "      <td>0.448466</td>\n",
       "      <td>0.429216</td>\n",
       "      <td>0.425276</td>\n",
       "      <td>0</td>\n",
       "      <td>1</td>\n",
       "      <td>0</td>\n",
       "      <td>0</td>\n",
       "    </tr>\n",
       "    <tr>\n",
       "      <th>4</th>\n",
       "      <td>360</td>\n",
       "      <td>4</td>\n",
       "      <td>Z56760621</td>\n",
       "      <td>O=C1NC(c2c3c(nc(-c4ccccc4)c2)cccc3)=Nc2sc3c(c1...</td>\n",
       "      <td>O=C1NC(c2c3c(nc(-c4ccccc4)c2)cccc3)=Nc2sc3c(c1...</td>\n",
       "      <td>0</td>\n",
       "      <td>0.347723</td>\n",
       "      <td>0.382107</td>\n",
       "      <td>0.398629</td>\n",
       "      <td>0.481232</td>\n",
       "      <td>0</td>\n",
       "      <td>0</td>\n",
       "      <td>0</td>\n",
       "      <td>0</td>\n",
       "    </tr>\n",
       "    <tr>\n",
       "      <th>...</th>\n",
       "      <td>...</td>\n",
       "      <td>...</td>\n",
       "      <td>...</td>\n",
       "      <td>...</td>\n",
       "      <td>...</td>\n",
       "      <td>...</td>\n",
       "      <td>...</td>\n",
       "      <td>...</td>\n",
       "      <td>...</td>\n",
       "      <td>...</td>\n",
       "      <td>...</td>\n",
       "      <td>...</td>\n",
       "      <td>...</td>\n",
       "      <td>...</td>\n",
       "    </tr>\n",
       "    <tr>\n",
       "      <th>953</th>\n",
       "      <td>352</td>\n",
       "      <td>951</td>\n",
       "      <td>Z2168314562</td>\n",
       "      <td>Clc1cc2nc(N3C(c4sccc4)CC(c4sccc4)=N3)nc(-c3ccc...</td>\n",
       "      <td>Clc1cc2nc(N3C(c4sccc4)CC(c4sccc4)=N3)nc(-c3ccc...</td>\n",
       "      <td>19</td>\n",
       "      <td>0.304756</td>\n",
       "      <td>0.386098</td>\n",
       "      <td>0.421323</td>\n",
       "      <td>0.413136</td>\n",
       "      <td>0</td>\n",
       "      <td>0</td>\n",
       "      <td>0</td>\n",
       "      <td>0</td>\n",
       "    </tr>\n",
       "    <tr>\n",
       "      <th>954</th>\n",
       "      <td>353</td>\n",
       "      <td>952</td>\n",
       "      <td>Z1558470051</td>\n",
       "      <td>Clc1cc2c(-c3ccccc3)nc(N3C(c4c(C)cccc4)CC(c4cc(...</td>\n",
       "      <td>Clc1cc2c(-c3ccccc3)nc(N3C(c4c(C)cccc4)CC(c4cc(...</td>\n",
       "      <td>19</td>\n",
       "      <td>0.290488</td>\n",
       "      <td>0.390352</td>\n",
       "      <td>0.392658</td>\n",
       "      <td>0.513098</td>\n",
       "      <td>0</td>\n",
       "      <td>0</td>\n",
       "      <td>0</td>\n",
       "      <td>0</td>\n",
       "    </tr>\n",
       "    <tr>\n",
       "      <th>955</th>\n",
       "      <td>354</td>\n",
       "      <td>953</td>\n",
       "      <td>Z1558581159</td>\n",
       "      <td>Clc1cc2c(-c3ccccc3)nc(N3C(c4ccc(OCC)cc4)CC(c4s...</td>\n",
       "      <td>Clc1cc2c(-c3ccccc3)nc(N3C(c4ccc(OCC)cc4)CC(c4s...</td>\n",
       "      <td>19</td>\n",
       "      <td>0.259303</td>\n",
       "      <td>0.317015</td>\n",
       "      <td>0.394699</td>\n",
       "      <td>0.430953</td>\n",
       "      <td>0</td>\n",
       "      <td>0</td>\n",
       "      <td>0</td>\n",
       "      <td>0</td>\n",
       "    </tr>\n",
       "    <tr>\n",
       "      <th>956</th>\n",
       "      <td>748</td>\n",
       "      <td>954</td>\n",
       "      <td>Z57245607</td>\n",
       "      <td>Brc1ccc(C2N(c3nc(-c4ccccc4)c4c(n3)ccc(Cl)c4)N=...</td>\n",
       "      <td>Brc1ccc(C2N(c3nc(-c4ccccc4)c4c(n3)ccc(Cl)c4)N=...</td>\n",
       "      <td>19</td>\n",
       "      <td>0.297791</td>\n",
       "      <td>0.368787</td>\n",
       "      <td>0.403272</td>\n",
       "      <td>0.471051</td>\n",
       "      <td>0</td>\n",
       "      <td>0</td>\n",
       "      <td>0</td>\n",
       "      <td>0</td>\n",
       "    </tr>\n",
       "    <tr>\n",
       "      <th>957</th>\n",
       "      <td>355</td>\n",
       "      <td>955</td>\n",
       "      <td>Z1558581145</td>\n",
       "      <td>Clc1cc2c(-c3ccccc3)nc(N3C(c4ccccc4)CC(c4occc4)...</td>\n",
       "      <td>Clc1cc2c(-c3ccccc3)nc(N3C(c4ccccc4)CC(c4occc4)...</td>\n",
       "      <td>19</td>\n",
       "      <td>0.305523</td>\n",
       "      <td>0.379987</td>\n",
       "      <td>0.402477</td>\n",
       "      <td>0.471051</td>\n",
       "      <td>0</td>\n",
       "      <td>0</td>\n",
       "      <td>0</td>\n",
       "      <td>0</td>\n",
       "    </tr>\n",
       "  </tbody>\n",
       "</table>\n",
       "<p>955 rows × 14 columns</p>\n",
       "</div>"
      ],
      "text/plain": [
       "     Unnamed: 0  Molecule Index  Molecule Id  \\\n",
       "0           166               0    Z57030687   \n",
       "1            68               1    Z56823499   \n",
       "2           483               2    Z53786665   \n",
       "3            69               3   Z105382408   \n",
       "4           360               4    Z56760621   \n",
       "..          ...             ...          ...   \n",
       "953         352             951  Z2168314562   \n",
       "954         353             952  Z1558470051   \n",
       "955         354             953  Z1558581159   \n",
       "956         748             954    Z57245607   \n",
       "957         355             955  Z1558581145   \n",
       "\n",
       "                                                SMILES  \\\n",
       "0    O=C(Nc1c(Cc2ccccc2)cccc1)C1CCN(c2ncnc3sc4c(c23...   \n",
       "1    O=C1C(=CNN2C(=O)c3c(sc4c3CCCC4)N=C2)CCCC1=Cc1c...   \n",
       "2    Clc1ccc(-c2nc3c(c(C(=O)OCC4=Nc5sc6c(c5C(=O)N4)...   \n",
       "3    Fc1ccc(C(N2CCN(CC3=Nc4sc5c(c4C(=O)N3)CCC5)CC2)...   \n",
       "4    O=C1NC(c2c3c(nc(-c4ccccc4)c2)cccc3)=Nc2sc3c(c1...   \n",
       "..                                                 ...   \n",
       "953  Clc1cc2nc(N3C(c4sccc4)CC(c4sccc4)=N3)nc(-c3ccc...   \n",
       "954  Clc1cc2c(-c3ccccc3)nc(N3C(c4c(C)cccc4)CC(c4cc(...   \n",
       "955  Clc1cc2c(-c3ccccc3)nc(N3C(c4ccc(OCC)cc4)CC(c4s...   \n",
       "956  Brc1ccc(C2N(c3nc(-c4ccccc4)c4c(n3)ccc(Cl)c4)N=...   \n",
       "957  Clc1cc2c(-c3ccccc3)nc(N3C(c4ccccc4)CC(c4occc4)...   \n",
       "\n",
       "                                           molStripped  Cluster  \\\n",
       "0    O=C(Nc1c(Cc2ccccc2)cccc1)C1CCN(c2ncnc3sc4c(c23...        0   \n",
       "1    O=C1C(=CNN2C(=O)c3c(sc4c3CCCC4)N=C2)CCCC1=Cc1c...        0   \n",
       "2    Clc1ccc(-c2nc3c(c(C(=O)OCC4=Nc5sc6c(c5C(=O)N4)...        0   \n",
       "3    Fc1ccc(C(N2CCN(CC3=Nc4sc5c(c4C(=O)N3)CCC5)CC2)...        0   \n",
       "4    O=C1NC(c2c3c(nc(-c4ccccc4)c2)cccc3)=Nc2sc3c(c1...        0   \n",
       "..                                                 ...      ...   \n",
       "953  Clc1cc2nc(N3C(c4sccc4)CC(c4sccc4)=N3)nc(-c3ccc...       19   \n",
       "954  Clc1cc2c(-c3ccccc3)nc(N3C(c4c(C)cccc4)CC(c4cc(...       19   \n",
       "955  Clc1cc2c(-c3ccccc3)nc(N3C(c4ccc(OCC)cc4)CC(c4s...       19   \n",
       "956  Brc1ccc(C2N(c3nc(-c4ccccc4)c4c(n3)ccc(Cl)c4)N=...       19   \n",
       "957  Clc1cc2c(-c3ccccc3)nc(N3C(c4ccccc4)CC(c4occc4)...       19   \n",
       "\n",
       "     RandomForestClassifier/optuna/P2  \\\n",
       "0                            0.367790   \n",
       "1                            0.382323   \n",
       "2                            0.329463   \n",
       "3                            0.378825   \n",
       "4                            0.347723   \n",
       "..                                ...   \n",
       "953                          0.304756   \n",
       "954                          0.290488   \n",
       "955                          0.259303   \n",
       "956                          0.297791   \n",
       "957                          0.305523   \n",
       "\n",
       "     RandomForestClassifier/random_search/P2  \\\n",
       "0                                   0.398114   \n",
       "1                                   0.362193   \n",
       "2                                   0.405095   \n",
       "3                                   0.448466   \n",
       "4                                   0.382107   \n",
       "..                                       ...   \n",
       "953                                 0.386098   \n",
       "954                                 0.390352   \n",
       "955                                 0.317015   \n",
       "956                                 0.368787   \n",
       "957                                 0.379987   \n",
       "\n",
       "     RandomForestClassifier/hyperopt/P2  CatBoostClassifier/random_search/P2  \\\n",
       "0                              0.438442                             0.420543   \n",
       "1                              0.426280                             0.360764   \n",
       "2                              0.415577                             0.550563   \n",
       "3                              0.429216                             0.425276   \n",
       "4                              0.398629                             0.481232   \n",
       "..                                  ...                                  ...   \n",
       "953                            0.421323                             0.413136   \n",
       "954                            0.392658                             0.513098   \n",
       "955                            0.394699                             0.430953   \n",
       "956                            0.403272                             0.471051   \n",
       "957                            0.402477                             0.471051   \n",
       "\n",
       "     RandomForestClassifier/optuna/P2_pred  \\\n",
       "0                                        0   \n",
       "1                                        0   \n",
       "2                                        0   \n",
       "3                                        0   \n",
       "4                                        0   \n",
       "..                                     ...   \n",
       "953                                      0   \n",
       "954                                      0   \n",
       "955                                      0   \n",
       "956                                      0   \n",
       "957                                      0   \n",
       "\n",
       "     RandomForestClassifier/random_search/P2_pred  \\\n",
       "0                                               0   \n",
       "1                                               0   \n",
       "2                                               0   \n",
       "3                                               1   \n",
       "4                                               0   \n",
       "..                                            ...   \n",
       "953                                             0   \n",
       "954                                             0   \n",
       "955                                             0   \n",
       "956                                             0   \n",
       "957                                             0   \n",
       "\n",
       "     RandomForestClassifier/hyperopt/P2_pred  \\\n",
       "0                                          0   \n",
       "1                                          0   \n",
       "2                                          0   \n",
       "3                                          0   \n",
       "4                                          0   \n",
       "..                                       ...   \n",
       "953                                        0   \n",
       "954                                        0   \n",
       "955                                        0   \n",
       "956                                        0   \n",
       "957                                        0   \n",
       "\n",
       "     CatBoostClassifier/random_search/P2_pred  \n",
       "0                                           0  \n",
       "1                                           0  \n",
       "2                                           0  \n",
       "3                                           0  \n",
       "4                                           0  \n",
       "..                                        ...  \n",
       "953                                         0  \n",
       "954                                         0  \n",
       "955                                         0  \n",
       "956                                         0  \n",
       "957                                         0  \n",
       "\n",
       "[955 rows x 14 columns]"
      ]
     },
     "execution_count": 81,
     "metadata": {},
     "output_type": "execute_result"
    }
   ],
   "source": [
    "master_2"
   ]
  },
  {
   "cell_type": "code",
   "execution_count": null,
   "id": "489d751b-e0ac-47a5-ab5c-f5fbfebe0eb8",
   "metadata": {},
   "outputs": [],
   "source": []
  },
  {
   "cell_type": "code",
   "execution_count": 71,
   "id": "7b653e92-248d-41cb-af9b-fafc072550fa",
   "metadata": {},
   "outputs": [],
   "source": [
    "master.to_csv('../data/KasADockedTop1000_Master_Apr10.csv')"
   ]
  },
  {
   "cell_type": "code",
   "execution_count": 38,
   "id": "3da472e6-f721-4782-909e-8b02cde4924e",
   "metadata": {},
   "outputs": [
    {
     "data": {
      "text/html": [
       "<div>\n",
       "<style scoped>\n",
       "    .dataframe tbody tr th:only-of-type {\n",
       "        vertical-align: middle;\n",
       "    }\n",
       "\n",
       "    .dataframe tbody tr th {\n",
       "        vertical-align: top;\n",
       "    }\n",
       "\n",
       "    .dataframe thead th {\n",
       "        text-align: right;\n",
       "    }\n",
       "</style>\n",
       "<table border=\"1\" class=\"dataframe\">\n",
       "  <thead>\n",
       "    <tr style=\"text-align: right;\">\n",
       "      <th></th>\n",
       "      <th>auroc</th>\n",
       "      <th>lb</th>\n",
       "      <th>ub</th>\n",
       "      <th>thresh_values</th>\n",
       "    </tr>\n",
       "    <tr>\n",
       "      <th>model</th>\n",
       "      <th></th>\n",
       "      <th></th>\n",
       "      <th></th>\n",
       "      <th></th>\n",
       "    </tr>\n",
       "  </thead>\n",
       "  <tbody>\n",
       "    <tr>\n",
       "      <th>RandomForestClassifier/optuna/P2</th>\n",
       "      <td>91.413</td>\n",
       "      <td>80.817</td>\n",
       "      <td>100.0</td>\n",
       "      <td>{'best_f1_thresh': 0.44024136178046486, 'best_...</td>\n",
       "    </tr>\n",
       "    <tr>\n",
       "      <th>RandomForestClassifier/hyperopt/P2</th>\n",
       "      <td>90.859</td>\n",
       "      <td>79.937</td>\n",
       "      <td>100.0</td>\n",
       "      <td>{'best_f1_thresh': 0.4465324497386552, 'best_p...</td>\n",
       "    </tr>\n",
       "    <tr>\n",
       "      <th>RandomForestClassifier/optuna/P1</th>\n",
       "      <td>90.859</td>\n",
       "      <td>79.966</td>\n",
       "      <td>100.0</td>\n",
       "      <td>{'best_f1_thresh': 0.409888291331887, 'best_pr...</td>\n",
       "    </tr>\n",
       "    <tr>\n",
       "      <th>XGBClassifier/optuna/P1</th>\n",
       "      <td>89.751</td>\n",
       "      <td>78.321</td>\n",
       "      <td>100.0</td>\n",
       "      <td>{'best_f1_thresh': 0.5474278926849365, 'best_p...</td>\n",
       "    </tr>\n",
       "    <tr>\n",
       "      <th>CatBoostClassifier/random_search/P2</th>\n",
       "      <td>89.751</td>\n",
       "      <td>78.513</td>\n",
       "      <td>100.0</td>\n",
       "      <td>{'best_f1_thresh': 0.19514746209701306, 'best_...</td>\n",
       "    </tr>\n",
       "    <tr>\n",
       "      <th>XGBClassifier/hyperopt/P1</th>\n",
       "      <td>89.474</td>\n",
       "      <td>77.853</td>\n",
       "      <td>100.0</td>\n",
       "      <td>{'best_f1_thresh': 0.8527159094810486, 'best_p...</td>\n",
       "    </tr>\n",
       "    <tr>\n",
       "      <th>RandomForestClassifier/random_search/P2</th>\n",
       "      <td>89.197</td>\n",
       "      <td>77.524</td>\n",
       "      <td>100.0</td>\n",
       "      <td>{'best_f1_thresh': 0.9165555478389703, 'best_p...</td>\n",
       "    </tr>\n",
       "    <tr>\n",
       "      <th>CatBoostClassifier/optuna/P2</th>\n",
       "      <td>89.197</td>\n",
       "      <td>77.821</td>\n",
       "      <td>100.0</td>\n",
       "      <td>{'best_f1_thresh': 0.5493462221703439, 'best_p...</td>\n",
       "    </tr>\n",
       "    <tr>\n",
       "      <th>LGBMClassifier/optuna/P2</th>\n",
       "      <td>88.92</td>\n",
       "      <td>77.119</td>\n",
       "      <td>100.0</td>\n",
       "      <td>{'best_f1_thresh': 0.572040680618139, 'best_pr...</td>\n",
       "    </tr>\n",
       "    <tr>\n",
       "      <th>RandomForestClassifier/random_search/P1</th>\n",
       "      <td>88.92</td>\n",
       "      <td>76.704</td>\n",
       "      <td>100.0</td>\n",
       "      <td>{'best_f1_thresh': 0.9500994747609546, 'best_p...</td>\n",
       "    </tr>\n",
       "    <tr>\n",
       "      <th>CatBoostClassifier/optuna/P1</th>\n",
       "      <td>88.92</td>\n",
       "      <td>76.962</td>\n",
       "      <td>100.0</td>\n",
       "      <td>{'best_f1_thresh': 0.5842996355075818, 'best_p...</td>\n",
       "    </tr>\n",
       "    <tr>\n",
       "      <th>CatBoostClassifier/random_search/P1</th>\n",
       "      <td>88.92</td>\n",
       "      <td>76.91</td>\n",
       "      <td>100.0</td>\n",
       "      <td>{'best_f1_thresh': 0.14113912027935188, 'best_...</td>\n",
       "    </tr>\n",
       "    <tr>\n",
       "      <th>XGBClassifier/random_search/P1</th>\n",
       "      <td>88.92</td>\n",
       "      <td>76.552</td>\n",
       "      <td>100.0</td>\n",
       "      <td>{'best_f1_thresh': 0.5522518157958984, 'best_p...</td>\n",
       "    </tr>\n",
       "    <tr>\n",
       "      <th>RandomForestClassifier/hyperopt/P1</th>\n",
       "      <td>88.643</td>\n",
       "      <td>77.17</td>\n",
       "      <td>100.0</td>\n",
       "      <td>{'best_f1_thresh': 0.43528065848326014, 'best_...</td>\n",
       "    </tr>\n",
       "    <tr>\n",
       "      <th>CatBoostClassifier/hyperopt/P2</th>\n",
       "      <td>87.535</td>\n",
       "      <td>75.354</td>\n",
       "      <td>99.715</td>\n",
       "      <td>{'best_f1_thresh': 0.999841515918321, 'best_pr...</td>\n",
       "    </tr>\n",
       "    <tr>\n",
       "      <th>CatBoostClassifier/hyperopt/P1</th>\n",
       "      <td>86.704</td>\n",
       "      <td>74.064</td>\n",
       "      <td>99.343</td>\n",
       "      <td>{'best_f1_thresh': 0.37630168889103466, 'best_...</td>\n",
       "    </tr>\n",
       "    <tr>\n",
       "      <th>LGBMClassifier/hyperopt/P1</th>\n",
       "      <td>86.427</td>\n",
       "      <td>72.886</td>\n",
       "      <td>99.967</td>\n",
       "      <td>{'best_f1_thresh': 0.4863355694018908, 'best_p...</td>\n",
       "    </tr>\n",
       "    <tr>\n",
       "      <th>XGBClassifier/optuna/P2</th>\n",
       "      <td>86.15</td>\n",
       "      <td>72.454</td>\n",
       "      <td>99.845</td>\n",
       "      <td>{'best_f1_thresh': 0.9466541409492493, 'best_p...</td>\n",
       "    </tr>\n",
       "    <tr>\n",
       "      <th>LGBMClassifier/optuna/P1</th>\n",
       "      <td>85.873</td>\n",
       "      <td>71.627</td>\n",
       "      <td>100.0</td>\n",
       "      <td>{'best_f1_thresh': 0.3672440788611034, 'best_p...</td>\n",
       "    </tr>\n",
       "    <tr>\n",
       "      <th>XGBClassifier/hyperopt/P2</th>\n",
       "      <td>85.873</td>\n",
       "      <td>72.717</td>\n",
       "      <td>99.028</td>\n",
       "      <td>{'best_f1_thresh': 0.5342452526092529, 'best_p...</td>\n",
       "    </tr>\n",
       "    <tr>\n",
       "      <th>XGBClassifier/random_search/P2</th>\n",
       "      <td>83.934</td>\n",
       "      <td>69.496</td>\n",
       "      <td>98.371</td>\n",
       "      <td>{'best_f1_thresh': 0.9908876419067383, 'best_p...</td>\n",
       "    </tr>\n",
       "    <tr>\n",
       "      <th>LGBMClassifier/hyperopt/P2</th>\n",
       "      <td>82.548</td>\n",
       "      <td>67.372</td>\n",
       "      <td>97.725</td>\n",
       "      <td>{'best_f1_thresh': 0.9880515486169849, 'best_p...</td>\n",
       "    </tr>\n",
       "    <tr>\n",
       "      <th>LGBMClassifier/random_search/P1</th>\n",
       "      <td>50.0</td>\n",
       "      <td>NaN</td>\n",
       "      <td>NaN</td>\n",
       "      <td>{'best_f1_thresh': 0.506578947368421, 'best_pr...</td>\n",
       "    </tr>\n",
       "    <tr>\n",
       "      <th>LGBMClassifier/random_search/P2</th>\n",
       "      <td>50.0</td>\n",
       "      <td>NaN</td>\n",
       "      <td>NaN</td>\n",
       "      <td>{'best_f1_thresh': 0.506578947368421, 'best_pr...</td>\n",
       "    </tr>\n",
       "  </tbody>\n",
       "</table>\n",
       "</div>"
      ],
      "text/plain": [
       "                                          auroc      lb      ub  \\\n",
       "model                                                             \n",
       "RandomForestClassifier/optuna/P2         91.413  80.817   100.0   \n",
       "RandomForestClassifier/hyperopt/P2       90.859  79.937   100.0   \n",
       "RandomForestClassifier/optuna/P1         90.859  79.966   100.0   \n",
       "XGBClassifier/optuna/P1                  89.751  78.321   100.0   \n",
       "CatBoostClassifier/random_search/P2      89.751  78.513   100.0   \n",
       "XGBClassifier/hyperopt/P1                89.474  77.853   100.0   \n",
       "RandomForestClassifier/random_search/P2  89.197  77.524   100.0   \n",
       "CatBoostClassifier/optuna/P2             89.197  77.821   100.0   \n",
       "LGBMClassifier/optuna/P2                  88.92  77.119   100.0   \n",
       "RandomForestClassifier/random_search/P1   88.92  76.704   100.0   \n",
       "CatBoostClassifier/optuna/P1              88.92  76.962   100.0   \n",
       "CatBoostClassifier/random_search/P1       88.92   76.91   100.0   \n",
       "XGBClassifier/random_search/P1            88.92  76.552   100.0   \n",
       "RandomForestClassifier/hyperopt/P1       88.643   77.17   100.0   \n",
       "CatBoostClassifier/hyperopt/P2           87.535  75.354  99.715   \n",
       "CatBoostClassifier/hyperopt/P1           86.704  74.064  99.343   \n",
       "LGBMClassifier/hyperopt/P1               86.427  72.886  99.967   \n",
       "XGBClassifier/optuna/P2                   86.15  72.454  99.845   \n",
       "LGBMClassifier/optuna/P1                 85.873  71.627   100.0   \n",
       "XGBClassifier/hyperopt/P2                85.873  72.717  99.028   \n",
       "XGBClassifier/random_search/P2           83.934  69.496  98.371   \n",
       "LGBMClassifier/hyperopt/P2               82.548  67.372  97.725   \n",
       "LGBMClassifier/random_search/P1            50.0     NaN     NaN   \n",
       "LGBMClassifier/random_search/P2            50.0     NaN     NaN   \n",
       "\n",
       "                                                                             thresh_values  \n",
       "model                                                                                       \n",
       "RandomForestClassifier/optuna/P2         {'best_f1_thresh': 0.44024136178046486, 'best_...  \n",
       "RandomForestClassifier/hyperopt/P2       {'best_f1_thresh': 0.4465324497386552, 'best_p...  \n",
       "RandomForestClassifier/optuna/P1         {'best_f1_thresh': 0.409888291331887, 'best_pr...  \n",
       "XGBClassifier/optuna/P1                  {'best_f1_thresh': 0.5474278926849365, 'best_p...  \n",
       "CatBoostClassifier/random_search/P2      {'best_f1_thresh': 0.19514746209701306, 'best_...  \n",
       "XGBClassifier/hyperopt/P1                {'best_f1_thresh': 0.8527159094810486, 'best_p...  \n",
       "RandomForestClassifier/random_search/P2  {'best_f1_thresh': 0.9165555478389703, 'best_p...  \n",
       "CatBoostClassifier/optuna/P2             {'best_f1_thresh': 0.5493462221703439, 'best_p...  \n",
       "LGBMClassifier/optuna/P2                 {'best_f1_thresh': 0.572040680618139, 'best_pr...  \n",
       "RandomForestClassifier/random_search/P1  {'best_f1_thresh': 0.9500994747609546, 'best_p...  \n",
       "CatBoostClassifier/optuna/P1             {'best_f1_thresh': 0.5842996355075818, 'best_p...  \n",
       "CatBoostClassifier/random_search/P1      {'best_f1_thresh': 0.14113912027935188, 'best_...  \n",
       "XGBClassifier/random_search/P1           {'best_f1_thresh': 0.5522518157958984, 'best_p...  \n",
       "RandomForestClassifier/hyperopt/P1       {'best_f1_thresh': 0.43528065848326014, 'best_...  \n",
       "CatBoostClassifier/hyperopt/P2           {'best_f1_thresh': 0.999841515918321, 'best_pr...  \n",
       "CatBoostClassifier/hyperopt/P1           {'best_f1_thresh': 0.37630168889103466, 'best_...  \n",
       "LGBMClassifier/hyperopt/P1               {'best_f1_thresh': 0.4863355694018908, 'best_p...  \n",
       "XGBClassifier/optuna/P2                  {'best_f1_thresh': 0.9466541409492493, 'best_p...  \n",
       "LGBMClassifier/optuna/P1                 {'best_f1_thresh': 0.3672440788611034, 'best_p...  \n",
       "XGBClassifier/hyperopt/P2                {'best_f1_thresh': 0.5342452526092529, 'best_p...  \n",
       "XGBClassifier/random_search/P2           {'best_f1_thresh': 0.9908876419067383, 'best_p...  \n",
       "LGBMClassifier/hyperopt/P2               {'best_f1_thresh': 0.9880515486169849, 'best_p...  \n",
       "LGBMClassifier/random_search/P1          {'best_f1_thresh': 0.506578947368421, 'best_pr...  \n",
       "LGBMClassifier/random_search/P2          {'best_f1_thresh': 0.506578947368421, 'best_pr...  "
      ]
     },
     "execution_count": 38,
     "metadata": {},
     "output_type": "execute_result"
    }
   ],
   "source": [
    "test_metrics"
   ]
  },
  {
   "cell_type": "code",
   "execution_count": 45,
   "id": "e0e264e3-28a2-4b5c-9e3c-e86753ef35d2",
   "metadata": {},
   "outputs": [],
   "source": [
    "pred_models = [col for col in master.columns if col in trained_models]\n",
    "\n",
    "for m in pred_models:\n",
    "    best_f1_thresh = test_metrics.loc[m, 'thresh_values']['best_f1_thresh']\n",
    "    best_prec_thresh = test_metrics.loc[m, 'thresh_values']['best_prec_thresh']\n",
    "    \n",
    "    master[m + '_preds_best_f1'] = master[m].apply(lambda x: x >= best_f1_thresh)\n",
    "    master[m + '_preds_best_prec'] = master[m].apply(lambda x: x >= best_prec_thresh)"
   ]
  },
  {
   "cell_type": "code",
   "execution_count": 52,
   "id": "4a40cb9b-2fca-4e21-80a4-0a608c27bb54",
   "metadata": {},
   "outputs": [
    {
     "name": "stdout",
     "output_type": "stream",
     "text": [
      "RandomForestClassifier/optuna/P2_preds_best_prec\n",
      "False    958\n",
      "Name: RandomForestClassifier/optuna/P2_preds_best_prec, dtype: int64 \n",
      "\n",
      "RandomForestClassifier/hyperopt/P2_preds_best_prec\n",
      "False    958\n",
      "Name: RandomForestClassifier/hyperopt/P2_preds_best_prec, dtype: int64 \n",
      "\n",
      "CatBoostClassifier/random_search/P2_preds_best_prec\n",
      "False    958\n",
      "Name: CatBoostClassifier/random_search/P2_preds_best_prec, dtype: int64 \n",
      "\n"
     ]
    }
   ],
   "source": [
    "for col in master.columns:\n",
    "    if 'best_prec' in col:\n",
    "        print(col)\n",
    "        print(master[col].value_counts(), \"\\n\")"
   ]
  },
  {
   "cell_type": "code",
   "execution_count": 47,
   "id": "358fa5f1-438d-46ff-a7ab-20c3f21d5e6b",
   "metadata": {},
   "outputs": [
    {
     "data": {
      "text/plain": [
       "False    958\n",
       "Name: RandomForestClassifier/optuna/P2_preds_best_f1, dtype: int64"
      ]
     },
     "execution_count": 47,
     "metadata": {},
     "output_type": "execute_result"
    }
   ],
   "source": [
    "master['RandomForestClassifier/optuna/P2_preds_best_f1'].value_counts()"
   ]
  },
  {
   "cell_type": "code",
   "execution_count": null,
   "id": "7fcd9227-409f-4d00-bdde-3df69aa18496",
   "metadata": {},
   "outputs": [],
   "source": [
    "master['RandomForestClassifier/optuna/P2_preds_best_f1'].value_counts()"
   ]
  },
  {
   "cell_type": "code",
   "execution_count": 76,
   "id": "a8a8e944-5381-4806-aa3f-511040699c8a",
   "metadata": {},
   "outputs": [
    {
     "data": {
      "text/plain": [
       "[<rdkit.DataStructs.cDataStructs.ExplicitBitVect at 0x7fd30f9c1b20>,\n",
       " <rdkit.DataStructs.cDataStructs.ExplicitBitVect at 0x7fd30f9c19a0>,\n",
       " <rdkit.DataStructs.cDataStructs.ExplicitBitVect at 0x7fd30f9c18e0>,\n",
       " <rdkit.DataStructs.cDataStructs.ExplicitBitVect at 0x7fd30f9c1a60>,\n",
       " <rdkit.DataStructs.cDataStructs.ExplicitBitVect at 0x7fd30f9c1a00>]"
      ]
     },
     "execution_count": 76,
     "metadata": {},
     "output_type": "execute_result"
    }
   ],
   "source": [
    "[Chem.RDKFingerprint(Chem.MolFromSmiles(m)) for m in df_et['mol'].values][:5]"
   ]
  },
  {
   "cell_type": "markdown",
   "id": "64c25292-32ea-4635-8685-124863fe57a5",
   "metadata": {},
   "source": [
    "### Tanimoto Similarity"
   ]
  },
  {
   "cell_type": "code",
   "execution_count": 53,
   "id": "4c2e63e4-3d68-4a56-9194-237b8ce0dd78",
   "metadata": {},
   "outputs": [],
   "source": [
    "from rdkit import DataStructs"
   ]
  },
  {
   "cell_type": "code",
   "execution_count": 111,
   "id": "0fd87fb3-a3a2-43d8-b103-faf6c4e6dfca",
   "metadata": {},
   "outputs": [],
   "source": [
    "train_sims = df_train[['mol', 'AUC_bin']].copy()\n",
    "test_sims = df_test[['mol', 'AUC_bin']].copy()\n",
    "et_sims = df_et[['mol']].copy()"
   ]
  },
  {
   "cell_type": "code",
   "execution_count": 115,
   "id": "601458a9-bb87-4f40-9078-99ccbc8c6842",
   "metadata": {},
   "outputs": [],
   "source": [
    "train_sims['fp'] = train_sims['mol'].apply(lambda x: Chem.RDKFingerprint(Chem.MolFromSmiles(x)))\n",
    "test_sims['fp'] = test_sims['mol'].apply(lambda x: Chem.RDKFingerprint(Chem.MolFromSmiles(x)))\n",
    "et_sims['fp'] = et_sims['mol'].apply(lambda x: Chem.RDKFingerprint(Chem.MolFromSmiles(x)))"
   ]
  },
  {
   "cell_type": "code",
   "execution_count": 121,
   "id": "373ad358-d952-4e57-a6e5-40ed549282e3",
   "metadata": {},
   "outputs": [],
   "source": [
    "train_sims['inner_sim_all'] = inner_similarity(list(train_sims['fp'].values)).mean(axis=1)\n",
    "test_sims['inner_sim_all'] = inner_similarity(list(test_sims['fp'].values)).mean(axis=1)\n",
    "et_sims['inner_sim_all'] = inner_similarity(list(et_sims['fp'].values)).mean(axis=1)"
   ]
  },
  {
   "cell_type": "code",
   "execution_count": 123,
   "id": "4b5c5bc6-a2f5-4db6-8890-4e8ef7b4dc5b",
   "metadata": {},
   "outputs": [],
   "source": [
    "train_sims['cross_sim_et'] = cross_similarity(list(train_sims['fp'].values), list(et_sims['fp'].values)).mean(axis=1)\n",
    "test_sims['cross_sim_et'] = cross_similarity(list(test_sims['fp'].values), list(et_sims['fp'].values)).mean(axis=1)"
   ]
  },
  {
   "cell_type": "code",
   "execution_count": 127,
   "id": "2dbd8c13-d971-4639-ac60-b4833eb6e922",
   "metadata": {},
   "outputs": [
    {
     "data": {
      "text/plain": [
       "<seaborn.axisgrid.FacetGrid at 0x7fd30d990e20>"
      ]
     },
     "execution_count": 127,
     "metadata": {},
     "output_type": "execute_result"
    },
    {
     "data": {
      "image/png": "[encoded data removed]",
      "text/plain": [
       "<Figure size 432x288 with 1 Axes>"
      ]
     },
     "metadata": {
      "needs_background": "light"
     },
     "output_type": "display_data"
    },
    {
     "data": {
      "image/png": "[encoded data removed]",
      "text/plain": [
       "<Figure size 360x360 with 1 Axes>"
      ]
     },
     "metadata": {
      "needs_background": "light"
     },
     "output_type": "display_data"
    },
    {
     "data": {
      "image/png": "[encoded data removed]",
      "text/plain": [
       "<Figure size 360x360 with 1 Axes>"
      ]
     },
     "metadata": {
      "needs_background": "light"
     },
     "output_type": "display_data"
    }
   ],
   "source": [
    "fig, ax = plt.subplots()\n",
    "sns.displot(train_sims['cross_sim_et'], ax=ax, kind='kde')\n",
    "sns.displot(train_sims['inner_sim_all'], ax=ax, kind='kde')"
   ]
  },
  {
   "cell_type": "code",
   "execution_count": 118,
   "id": "e9a4722a-fea1-4fce-876b-0bbf9bf11949",
   "metadata": {},
   "outputs": [],
   "source": [
    "def inner_similarity(a):\n",
    "    inner_sims = []\n",
    "    for i in range(len(a)):\n",
    "        out_of_fold = a[:i] + a[i+1:]\n",
    "        mol_sims = []\n",
    "        for mol in out_of_fold:\n",
    "            mol_sims.append(DataStructs.FingerprintSimilarity(mol, a[i]))\n",
    "        inner_sims.append(np.array(mol_sims))\n",
    "    return np.array(inner_sims)\n",
    "\n",
    "\n",
    "def cross_similarity(a, b):\n",
    "    cross_sims = []\n",
    "    for a_mol in a:\n",
    "        mol_sims = []\n",
    "        for b_mol in b:\n",
    "            mol_sims.append(DataStructs.FingerprintSimilarity(a_mol, b_mol))\n",
    "        cross_sims.append(np.array(mol_sims))\n",
    "        \n",
    "    return np.array(cross_sims)"
   ]
  },
  {
   "cell_type": "code",
   "execution_count": 81,
   "id": "b06e4ea5-2d3a-40c3-a152-01dbea0fea49",
   "metadata": {},
   "outputs": [],
   "source": [
    "train_inner = inner_similarity([x[0] for x in pk_train_fps])\n",
    "test_inner = inner_similarity([x[0] for x in pk_test_fps])\n",
    "et_inner = inner_similarity(et_fps)"
   ]
  },
  {
   "cell_type": "code",
   "execution_count": 105,
   "id": "63010d31-838b-4626-8e1a-f66c68e904bf",
   "metadata": {},
   "outputs": [
    {
     "data": {
      "text/plain": [
       "(152,)"
      ]
     },
     "execution_count": 105,
     "metadata": {},
     "output_type": "execute_result"
    }
   ],
   "source": [
    "train_inner.mean(axis=1)"
   ]
  },
  {
   "cell_type": "code",
   "execution_count": 102,
   "id": "2da5603b-8f4f-471d-99e9-9bfbcfa97c24",
   "metadata": {},
   "outputs": [],
   "source": [
    "import seaborn as sns"
   ]
  },
  {
   "cell_type": "code",
   "execution_count": 110,
   "id": "607f43e9-b319-4e65-b872-a609e3d814bf",
   "metadata": {},
   "outputs": [
    {
     "data": {
      "text/plain": [
       "<seaborn.axisgrid.FacetGrid at 0x7fd30ed9b8b0>"
      ]
     },
     "execution_count": 110,
     "metadata": {},
     "output_type": "execute_result"
    },
    {
     "data": {
      "image/png": "[encoded data removed]",
      "text/plain": [
       "<Figure size 360x360 with 1 Axes>"
      ]
     },
     "metadata": {
      "needs_background": "light"
     },
     "output_type": "display_data"
    },
    {
     "data": {
      "image/png": "[encoded data removed]",
      "text/plain": [
       "<Figure size 360x360 with 1 Axes>"
      ]
     },
     "metadata": {
      "needs_background": "light"
     },
     "output_type": "display_data"
    },
    {
     "data": {
      "image/png": "[encoded data removed]",
      "text/plain": [
       "<Figure size 360x360 with 1 Axes>"
      ]
     },
     "metadata": {
      "needs_background": "light"
     },
     "output_type": "display_data"
    }
   ],
   "source": [
    "sns.displot(train_inner.mean(axis=1), kind='kde')\n",
    "sns.displot(test_inner.mean(axis=1), kind='kde')\n",
    "sns.displot(et_inner.mean(axis=1), kind='kde')"
   ]
  },
  {
   "cell_type": "code",
   "execution_count": 97,
   "id": "1d93b9d5-65d9-40c5-8fd8-3263953ec52b",
   "metadata": {},
   "outputs": [
    {
     "data": {
      "text/plain": [
       "(0.34268039606365785, 0.3368380714888184, 0.41055776028400703)"
      ]
     },
     "execution_count": 97,
     "metadata": {},
     "output_type": "execute_result"
    }
   ],
   "source": [
    "np.mean(train_inner), np.mean(test_inner), np.mean(et_inner)"
   ]
  },
  {
   "cell_type": "code",
   "execution_count": 98,
   "id": "fcf2fbce-0ccd-4ab1-a49d-09c9b17a672c",
   "metadata": {},
   "outputs": [],
   "source": [
    "cross_train_et = cross_similarity([x[0] for x in pk_train_fps], et_fps)\n",
    "cross_test_et = cross_similarity([x[0] for x in pk_test_fps], et_fps)\n",
    "cross_train_test_et = cross_similarity([x[0] for x in pk_train_fps] + [x[0] for x in pk_test_fps], et_fps)"
   ]
  },
  {
   "cell_type": "code",
   "execution_count": null,
   "id": "9eefcf12-4122-481d-8ffa-918b5b518b9b",
   "metadata": {},
   "outputs": [],
   "source": [
    "cross_train_et = cross_similarity([x[0] for x in pk_train_fps], et_fps)\n",
    "cross_test_et = cross_similarity([x[0] for x in pk_test_fps], et_fps)\n",
    "cross_train_test_et = cross_similarity([x[0] for x in pk_train_fps] + [x[0] for x in pk_test_fps], et_fps)"
   ]
  },
  {
   "cell_type": "code",
   "execution_count": 99,
   "id": "97d42cc6-bc3b-497a-94c6-8bab9704f28e",
   "metadata": {},
   "outputs": [
    {
     "data": {
      "text/plain": [
       "(0.32484024875654793, 0.3208281026416174, 0.3243521580687348)"
      ]
     },
     "execution_count": 101,
     "metadata": {},
     "output_type": "execute_result"
    }
   ],
   "source": [
    "np.mean(cross_train_et), np.mean(cross_test_et), np.mean(cross_train_test_et)"
   ]
  },
  {
   "cell_type": "markdown",
   "id": "74f7ade3-7846-495c-983f-23a538d3d344",
   "metadata": {},
   "source": [
    "### Analysis of Best Model"
   ]
  },
  {
   "cell_type": "code",
   "execution_count": 37,
   "id": "58c5c356-fcf0-4c2d-a60a-a9c3c8bb1f20",
   "metadata": {},
   "outputs": [
    {
     "data": {
      "image/png": "[encoded data removed]",
      "text/plain": [
       "<Figure size 1080x360 with 2 Axes>"
      ]
     },
     "metadata": {
      "needs_background": "light"
     },
     "output_type": "display_data"
    }
   ],
   "source": [
    "best_model = test_metrics['model'].head(1).values[0]\n",
    "\n",
    "if 'P1' in best_model:\n",
    "    pass\n",
    "    # thresh_values, df_analysis = threshold_analysis(X_tst_p1, y_tst_p1, trained_models[best_model], X_et=X_et_1, clf_name=best_model)\n",
    "elif 'P2' in best_model:\n",
    "    thresh_values, df_analysis = threshold_analysis(X_tst_p2, y_tst_p2, trained_models[best_model], X_et=X_et_2, clf_name=best_model)"
   ]
  },
  {
   "cell_type": "code",
   "execution_count": 38,
   "id": "a4c81af1-2af4-413d-adb0-2df2cabe5eb0",
   "metadata": {},
   "outputs": [
    {
     "data": {
      "text/html": [
       "<div>\n",
       "<style scoped>\n",
       "    .dataframe tbody tr th:only-of-type {\n",
       "        vertical-align: middle;\n",
       "    }\n",
       "\n",
       "    .dataframe tbody tr th {\n",
       "        vertical-align: top;\n",
       "    }\n",
       "\n",
       "    .dataframe thead th {\n",
       "        text-align: right;\n",
       "    }\n",
       "</style>\n",
       "<table border=\"1\" class=\"dataframe\">\n",
       "  <thead>\n",
       "    <tr style=\"text-align: right;\">\n",
       "      <th></th>\n",
       "      <th>Scheme</th>\n",
       "      <th>Threshold</th>\n",
       "      <th>Precision</th>\n",
       "      <th>Recall</th>\n",
       "      <th>F1 Score</th>\n",
       "      <th>Test Acc.</th>\n",
       "      <th>% Active in Test Set</th>\n",
       "      <th>% Active in E.T. (956) Set</th>\n",
       "    </tr>\n",
       "  </thead>\n",
       "  <tbody>\n",
       "    <tr>\n",
       "      <th>0</th>\n",
       "      <td>Best Prec. Thresh.</td>\n",
       "      <td>0.530</td>\n",
       "      <td>0.938</td>\n",
       "      <td>0.789</td>\n",
       "      <td>0.857</td>\n",
       "      <td>0.868</td>\n",
       "      <td>42.105</td>\n",
       "      <td>1.464</td>\n",
       "    </tr>\n",
       "    <tr>\n",
       "      <th>1</th>\n",
       "      <td>Best F1 Thresh.</td>\n",
       "      <td>0.422</td>\n",
       "      <td>0.900</td>\n",
       "      <td>0.947</td>\n",
       "      <td>0.923</td>\n",
       "      <td>0.921</td>\n",
       "      <td>52.632</td>\n",
       "      <td>78.870</td>\n",
       "    </tr>\n",
       "  </tbody>\n",
       "</table>\n",
       "</div>"
      ],
      "text/plain": [
       "               Scheme  Threshold  Precision  Recall  F1 Score  Test Acc.  \\\n",
       "0  Best Prec. Thresh.      0.530      0.938   0.789     0.857      0.868   \n",
       "1     Best F1 Thresh.      0.422      0.900   0.947     0.923      0.921   \n",
       "\n",
       "   % Active in Test Set  % Active in E.T. (956) Set  \n",
       "0                42.105                       1.464  \n",
       "1                52.632                      78.870  "
      ]
     },
     "execution_count": 38,
     "metadata": {},
     "output_type": "execute_result"
    }
   ],
   "source": [
    "df_analysis"
   ]
  },
  {
   "cell_type": "code",
   "execution_count": null,
   "id": "44e088e8-2feb-4982-be68-0f2fd760b4fc",
   "metadata": {},
   "outputs": [],
   "source": [
    "[0.01, 0.02, 0.30, 0.45, 0.67, 0.98, 0.99]\n",
    "0.50 <- best F1 threshold\n",
    "\n",
    "[0.01, 0.03, 0.07, 0.09, 0.1]"
   ]
  },
  {
   "cell_type": "code",
   "execution_count": null,
   "id": "624fc52e-93cf-4965-8d98-58e10b1e247f",
   "metadata": {},
   "outputs": [],
   "source": [
    "train - 80%, test - 20%\n",
    "\n",
    "- train on train set and predict on the external test\n",
    "- train on train + test set and predict on the external test"
   ]
  },
  {
   "cell_type": "code",
   "execution_count": null,
   "id": "76ed8a85-a3b2-4e09-8ed3-d2ae8d3918c4",
   "metadata": {},
   "outputs": [],
   "source": []
  }
 ],
 "metadata": {
  "kernelspec": {
   "display_name": "Python 3 (ipykernel)",
   "language": "python",
   "name": "python3"
  },
  "language_info": {
   "codemirror_mode": {
    "name": "ipython",
    "version": 3
   },
   "file_extension": ".py",
   "mimetype": "text/x-python",
   "name": "python",
   "nbconvert_exporter": "python",
   "pygments_lexer": "ipython3",
   "version": "3.11.3"
  }
 },
 "nbformat": 4,
 "nbformat_minor": 5
}
