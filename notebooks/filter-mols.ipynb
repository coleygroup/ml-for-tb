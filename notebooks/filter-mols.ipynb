{
 "cells": [
  {
   "cell_type": "code",
   "execution_count": 39,
   "metadata": {},
   "outputs": [
    {
     "data": {
      "application/vnd.jupyter.widget-view+json": {
       "model_id": "d4e1e16dec74470ab141b5dfcb0a8be5",
       "version_major": 2,
       "version_minor": 0
      },
      "text/plain": [
       "  0%|          | 0/1000 [00:00<?, ?it/s]"
      ]
     },
     "metadata": {},
     "output_type": "display_data"
    }
   ],
   "source": [
    "import random\n",
    "from pathlib import Path\n",
    "\n",
    "import numpy as np\n",
    "from rdkit import Chem\n",
    "from tqdm.auto import tqdm\n",
    "\n",
    "SMIS_TOP_1k = \"../data/2_molpal/6p9l_hts_results/smis-top1k.txt\"\n",
    "p_top_1k = Path(SMIS_TOP_1k)\n",
    "smis = p_top_1k.read_text().splitlines()\n",
    "mols = [Chem.MolFromSmiles(smi) for smi in tqdm(smis)]"
   ]
  },
  {
   "cell_type": "code",
   "execution_count": 2,
   "metadata": {},
   "outputs": [],
   "source": [
    "def get_ring_systems(mol, includeSpiro: bool = False):\n",
    "    \"\"\"from https://rdkit.org/docs/Cookbook.html#count-ring-systems\"\"\"\n",
    "    ri = mol.GetRingInfo()\n",
    "\n",
    "    systems = []\n",
    "    for ring in ri.AtomRings():\n",
    "        ringAts = set(ring)\n",
    "        nSystems = []\n",
    "        for system in systems:\n",
    "            nInCommon = len(ringAts.intersection(system))\n",
    "            if nInCommon and (includeSpiro or nInCommon>1):\n",
    "                ringAts = ringAts.union(system)\n",
    "            else:\n",
    "                nSystems.append(system)\n",
    "        nSystems.append(ringAts)\n",
    "        systems = nSystems\n",
    "        \n",
    "    return systems"
   ]
  },
  {
   "cell_type": "code",
   "execution_count": 3,
   "metadata": {},
   "outputs": [],
   "source": [
    "def get_Ncycles(mol: Chem.Mol, include_spiro: bool = False):\n",
    "    min_common_atoms = 0 if include_spiro else 1\n",
    "\n",
    "    ring_atomss = [set(atoms) for atoms in mol.GetRingInfo().AtomRings()]\n",
    "    ring_systems = get_ring_systems(mol, include_spiro)\n",
    "\n",
    "    return [\n",
    "        sum(len(atoms & rs) > min_common_atoms for atoms in ring_atomss)\n",
    "        for rs in get_ring_systems(mol, include_spiro)\n",
    "    ]"
   ]
  },
  {
   "cell_type": "code",
   "execution_count": 26,
   "metadata": {},
   "outputs": [],
   "source": [
    "def filter_Ncycles(mols, N: int = 4):\n",
    "    max_Ncycles = [max(get_Ncycles(mol)) for mol in tqdm(mols)]\n",
    "\n",
    "    return [mol for mol, max_Ncycle in zip(mols, max_Ncycles) if max_Ncycle < N]"
   ]
  },
  {
   "cell_type": "code",
   "execution_count": 27,
   "metadata": {},
   "outputs": [],
   "source": [
    "def filter_SMARTS(mols, smarts: str):\n",
    "    substructure = Chem.MolFromSmarts(smarts)\n",
    "    \n",
    "    return [mol for mol in mols if not mol.HasSubstructMatch(substructure)]"
   ]
  },
  {
   "cell_type": "code",
   "execution_count": 37,
   "metadata": {},
   "outputs": [
    {
     "data": {
      "application/vnd.jupyter.widget-view+json": {
       "model_id": "e124548f761d4f89adb6bebbdacfa100",
       "version_major": 2,
       "version_minor": 0
      },
      "text/plain": [
       "  0%|          | 0/1000 [00:00<?, ?it/s]"
      ]
     },
     "metadata": {},
     "output_type": "display_data"
    }
   ],
   "source": [
    "mols_no_4cycles = filter_Ncycles(mols, 4)\n",
    "mols_no_4_cycles_nitros = filter_SMARTS(mols_no_4cycles, \"[$([NX3](=O)=O),$([NX3+](=O)[O-])][!#8]\")"
   ]
  },
  {
   "cell_type": "code",
   "execution_count": 46,
   "metadata": {},
   "outputs": [],
   "source": [
    "with open(p_top_1k.with_suffix(\".filtered.txt\"), \"w\") as f:\n",
    "    f.writelines(\"\\n\".join(Chem.MolToSmiles(mol) for mol in mols_no_4_cycles_nitros))"
   ]
  },
  {
   "cell_type": "code",
   "execution_count": null,
   "metadata": {},
   "outputs": [],
   "source": []
  }
 ],
 "metadata": {
  "kernelspec": {
   "display_name": "doce",
   "language": "python",
   "name": "python3"
  },
  "language_info": {
   "codemirror_mode": {
    "name": "ipython",
    "version": 3
   },
   "file_extension": ".py",
   "mimetype": "text/x-python",
   "name": "python",
   "nbconvert_exporter": "python",
   "pygments_lexer": "ipython3",
   "version": "3.10.8"
  },
  "orig_nbformat": 4,
  "vscode": {
   "interpreter": {
    "hash": "ff65a46662a13e6cf6938bd5104110e15836603515153c4313376dab700b8b2a"
   }
  }
 },
 "nbformat": 4,
 "nbformat_minor": 2
}
